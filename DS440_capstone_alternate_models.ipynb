{
 "cells": [
  {
   "cell_type": "code",
   "execution_count": 99,
   "id": "70d8b6c7",
   "metadata": {
    "tags": []
   },
   "outputs": [],
   "source": [
    "#!pip install torch\n",
    "#packages \n",
    "#Load packages :pytorch, sklearn etc.,\n",
    "import numpy as np\n",
    "import pandas as pd\n",
    "import random\n",
    "import os\n",
    "\n",
    "import matplotlib.pyplot as plt\n",
    "from sklearn.metrics import plot_confusion_matrix\n",
    "\n",
    "\n",
    "import torch\n",
    "import torch.nn as nn\n",
    "import torch.nn.functional as F\n",
    "import torch.optim as optim\n",
    "import torch.utils.data as data\n",
    "\n",
    "import torchvision.transforms as transforms\n",
    "import torchvision.datasets as datasets\n",
    "\n",
    "from sklearn import metrics\n",
    "from sklearn import decomposition\n",
    "from sklearn import manifold\n",
    "from tqdm.notebook import trange, tqdm\n",
    "from sklearn.preprocessing import MinMaxScaler\n",
    "from sklearn.model_selection import train_test_split\n",
    "from sklearn import preprocessing\n",
    "from sklearn.linear_model import LogisticRegression\n",
    "from sklearn.neighbors import KNeighborsClassifier\n",
    "from sklearn import svm\n",
    "from sklearn.ensemble import RandomForestClassifier\n",
    "from sklearn.naive_bayes import GaussianNB\n",
    "\n",
    "import copy\n",
    "import time\n",
    "import pickle"
   ]
  },
  {
   "cell_type": "code",
   "execution_count": 126,
   "id": "879dc82b-2948-4e5c-9d56-e8090200ce08",
   "metadata": {},
   "outputs": [],
   "source": [
    "random.seed(4242)"
   ]
  },
  {
   "cell_type": "markdown",
   "id": "255789db-a357-4cb8-bfdb-c7ef795fa5a4",
   "metadata": {},
   "source": [
    "## Getting Training and Validation Data"
   ]
  },
  {
   "cell_type": "code",
   "execution_count": 42,
   "id": "0dccbf69",
   "metadata": {},
   "outputs": [],
   "source": [
    "#reading in the .npz file to train the model \n",
    "def get_training_data(load=False, datafile ='test.npz'):\n",
    "    \n",
    "    if not load:\n",
    "        # This grabs the training data files from the appropriate directory\n",
    "        mypath = './DS440-CAPSTONE/'\n",
    "        training_data_files = [f for f in listdir(mypath) if isfile(join(mypath, f))]\n",
    "        \n",
    "        training_t = []  \n",
    "        training_f = []\n",
    "        training_class = []\n",
    "        training_info = []\n",
    "        for f in training_data_files:\n",
    "            data = np.load(mypath+f)\n",
    "            all_time=data['all_time']\n",
    "            all_flux=data['all_flux']\n",
    "            ra = data['ra']\n",
    "            dec = data['dec']\n",
    "            injmu_percentile=data['injmu_percentile']\n",
    "            injduration=data['injduration']\n",
    "            injloc_x=-1 * data['injloc_x']\n",
    "            injloc_y=-1 * data['injloc_y']\n",
    "            injpeak=data['injpeak']\n",
    "            \n",
    "            info = ra,dec,injmu_percentile,injduration,injloc_x,injloc_y,injpeak #injduration, injpeak\n",
    "            for i, t in enumerate(all_time):\n",
    "                f = all_flux[i]\n",
    "                row = np.floor(i/9) - 4\n",
    "                col = i%9 - 4\n",
    "                if np.all(np.isnan(f)):\n",
    "                    continue\n",
    "                if np.sqrt((row - injloc_x)**2 + (col-injloc_y)**2)<=2:\n",
    "                    training_t.append(t)\n",
    "                    training_f.append(f)\n",
    "                    training_class.append(1)\n",
    "                    training_info.append(info)\n",
    "                    \n",
    "                elif np.sqrt((row - injloc_x)**2 + (col-injloc_y)**2)>5:\n",
    "                    training_t.append(t)\n",
    "                    training_f.append(f)\n",
    "                    training_class.append(0)\n",
    "                    training_info.append(info)\n",
    "        np.savez(datafile,training_t = training_t, training_f = training_f,\n",
    "                training_class = training_class, training_info = training_info)\n",
    "        return training_t, training_f,training_class,training_info\n",
    "    else:\n",
    "        data = np.load(datafile, allow_pickle=True)\n",
    "        training_t = data['training_t']         # needs to be padded and then shuffled\n",
    "        training_f = data['training_f']         \n",
    "        training_class = data['training_class']  \n",
    "        training_info = data['training_info']   \n",
    "        return training_t, training_f,training_class,training_info\n",
    "training_t, training_f,training_class,training_info = get_training_data(load=True)"
   ]
  },
  {
   "cell_type": "code",
   "execution_count": 43,
   "id": "b83232f5",
   "metadata": {},
   "outputs": [],
   "source": [
    "#padding the arrays to match the max size\n",
    "longest_len = 3658\n",
    "for i in np.arange(len(training_t)):\n",
    "    mylen = len(training_t[i])\n",
    "    if mylen>longest_len:\n",
    "        longest_len = mylen\n",
    "new_training_t = np.zeros((len(training_t),longest_len))\n",
    "new_training_f = np.zeros((len(training_t),longest_len))\n",
    "for i in np.arange(len(training_t)):\n",
    "    nl = len(training_t[i])\n",
    "    before_N=int(longest_len/2-(nl/2))\n",
    "    new_training_t[i,before_N:nl+before_N] = training_t[i]   # Data to be used\n",
    "    new_training_f[i,before_N:nl+before_N] = training_f[i]   # Data to be used"
   ]
  },
  {
   "cell_type": "code",
   "execution_count": 44,
   "id": "bc7fe636-9e81-41b2-ace5-fc231f5d141a",
   "metadata": {},
   "outputs": [],
   "source": [
    "float_nt_f = new_training_f.astype(np.float64)"
   ]
  },
  {
   "cell_type": "code",
   "execution_count": 45,
   "id": "e210a181",
   "metadata": {},
   "outputs": [],
   "source": [
    "# introducing balanced dataset \n",
    "\n",
    "#new set with 50/50 SNe\n",
    "count_arr = np.bincount(training_class)\n",
    "count1 = count_arr[1]\n",
    "count0 = count_arr[0]\n",
    "\n",
    "#get index of 0's, 1's-> np.where \n",
    "#np.random.choice?(replace= False ) returns a random sample of zeroes. \n",
    "\n",
    "zero=np.where(training_class==0)[0]  # the [0] just means the first \"element\" in this case array is selected. np.where makes a matrix of size nx2 for some reason \n",
    "one = np.where(training_class==1)[0] \n",
    "#get the indexes\n",
    "train_c0 = np.random.choice(zero, size=2383, replace=False, p=None)\n",
    "train_f0 = new_training_f[train_c0]\n",
    "train_c00= training_class[train_c0]\n",
    "\n",
    "train_f1 = new_training_f[one]\n",
    "train_c11 = training_class[one]\n",
    "\n",
    "train_c_all = np.append(train_c00,train_c11)\n",
    "train_f_all = np.vstack((train_f0,train_f1))"
   ]
  },
  {
   "cell_type": "code",
   "execution_count": 46,
   "id": "aefc7633-0678-48ad-bec6-6553667ff075",
   "metadata": {},
   "outputs": [],
   "source": [
    "#data = np.c_[float_nt_f, training_class]"
   ]
  },
  {
   "cell_type": "markdown",
   "id": "477dee20-6b83-4f36-887b-782c69a10c22",
   "metadata": {},
   "source": [
    "### Training and Validation Data"
   ]
  },
  {
   "cell_type": "code",
   "execution_count": 47,
   "id": "5cb3ab38-280c-4757-a983-1a4758422f26",
   "metadata": {},
   "outputs": [],
   "source": [
    "X_train, X_test, y_train, y_test = train_test_split(float_nt_f, training_class, test_size=0.33, random_state=42)"
   ]
  },
  {
   "cell_type": "markdown",
   "id": "8aa6faaa-972d-4bc6-8bd3-0ba479c59bb3",
   "metadata": {},
   "source": [
    "## Getting Realistic Testing Data"
   ]
  },
  {
   "cell_type": "code",
   "execution_count": 56,
   "id": "544614f5-1a2b-44af-aaec-a227ac842fd3",
   "metadata": {},
   "outputs": [],
   "source": [
    "#reading in a small test set with real SNe to see how the model actually performs.\n",
    "# Some actual testing on SNe = test_sn.npz\n",
    "#read in the data \n",
    "def get_testing_data(load=False, datafile ='testdata_set(1).npz'):\n",
    "    \n",
    "    if not load:\n",
    "        # This grabs the training data files from the appropriate directory\n",
    "        mypath = './pipelinefile_/'\n",
    "        training_data_files = [f for f in listdir(mypath) if isfile(join(mypath, f))]\n",
    "        \n",
    "        test_t = []  \n",
    "        test_f = []\n",
    "        test_class = []\n",
    "        test_info = []\n",
    "        for f in training_data_files:\n",
    "            data = np.load(mypath+f)\n",
    "            all_time=data['all_time']\n",
    "            all_flux=data['all_flux']\n",
    "            ra = data['ra']\n",
    "            dec = data['dec']\n",
    "            injmu_percentile=data['injmu_percentile']\n",
    "            injduration=data['injduration']\n",
    "            injloc_x=-1 * data['injloc_x']\n",
    "            injloc_y=-1 * data['injloc_y']\n",
    "            injpeak=data['injpeak']\n",
    "            \n",
    "            info = ra,dec,injmu_percentile,injduration,injloc_x,injloc_y,injpeak #injduration, injpeak\n",
    "            for i, t in enumerate(all_time):\n",
    "                f = all_flux[i]\n",
    "                row = np.floor(i/9) - 4\n",
    "                col = i%9 - 4\n",
    "                if np.all(np.isnan(f)):\n",
    "                    continue\n",
    "                if np.sqrt((row - injloc_x)**2 + (col-injloc_y)**2)<=2:\n",
    "                    test_t.append(t)\n",
    "                    test_f.append(f)\n",
    "                    test_class.append(1)\n",
    "                    test_info.append(info)\n",
    "                    \n",
    "                elif np.sqrt((row - injloc_x)**2 + (col-injloc_y)**2)>5:\n",
    "                    test_t.append(t)\n",
    "                    test_f.append(f)\n",
    "                    test_class.append(0)\n",
    "                    test_info.append(info)\n",
    "        np.savez(datafile,testg_t = test_t, test_f = test_f,\n",
    "                test_class = test_class, test_info = test_info)\n",
    "        return test_t, test_f,test_class,test_info\n",
    "    else:\n",
    "        data = np.load(datafile, allow_pickle=True)\n",
    "        test_t = data['training_t']         # needs to be padded and then shuffled\n",
    "        test_f = data['training_f']         \n",
    "        test_class = data['training_class']  \n",
    "        test_info = data['training_info']   \n",
    "        return test_t, test_f,test_class,test_info\n",
    "test_t, test_f,test_class,test_info = get_testing_data(load=True)\n"
   ]
  },
  {
   "cell_type": "code",
   "execution_count": 57,
   "id": "7c680b0f",
   "metadata": {},
   "outputs": [],
   "source": [
    "#adding padding to the curves\n",
    "Xtest = np.array(test_f)\n",
    "Ytest = np.array(test_class)\n",
    "\n",
    "longest_len = 3658\n",
    "for i in np.arange(len(Xtest)): \n",
    "    mylen = len(Xtest[i]) \n",
    "    if mylen>longest_len:\n",
    "        longest_len = mylen\n",
    "new_f = np.zeros((len(Xtest),longest_len)) \n",
    "for i in np.arange(len(Xtest)): \n",
    "    nl = len(Xtest[i]) \n",
    "    before_N=int(longest_len/2-(nl/2))\n",
    "    new_f[i,before_N:nl+before_N] = Xtest[i]  \n",
    "    "
   ]
  },
  {
   "cell_type": "code",
   "execution_count": 58,
   "id": "62b3e395",
   "metadata": {},
   "outputs": [],
   "source": [
    "# normalize the fluxes!! Imp step \n",
    "scaler = MinMaxScaler()\n",
    "xtest = scaler.fit_transform(new_f.T).T  # might not work here just yet"
   ]
  },
  {
   "cell_type": "markdown",
   "id": "358978ad-74be-4179-9a0d-5aa10e7e1636",
   "metadata": {},
   "source": [
    "### Test Data"
   ]
  },
  {
   "cell_type": "code",
   "execution_count": 67,
   "id": "1cb25a1b-7085-44d7-bd1f-f80d0ac034af",
   "metadata": {},
   "outputs": [],
   "source": [
    "real_test_X = xtest\n",
    "real_test_Y = Ytest"
   ]
  },
  {
   "cell_type": "markdown",
   "id": "1514801a-30f9-47d5-9ec3-a212a5b12aca",
   "metadata": {},
   "source": [
    "# Modeling"
   ]
  },
  {
   "cell_type": "markdown",
   "id": "154728cd-153e-4863-bc3f-a93099f665a6",
   "metadata": {},
   "source": [
    "## Logistic Regression"
   ]
  },
  {
   "cell_type": "code",
   "execution_count": 104,
   "id": "7f258ddc-9711-4c7c-943b-c70ca79d2605",
   "metadata": {},
   "outputs": [
    {
     "name": "stderr",
     "output_type": "stream",
     "text": [
      "C:\\Users\\Sam\\anaconda3\\lib\\site-packages\\sklearn\\svm\\_base.py:985: ConvergenceWarning: Liblinear failed to converge, increase the number of iterations.\n",
      "  warnings.warn(\"Liblinear failed to converge, increase \"\n"
     ]
    },
    {
     "data": {
      "text/plain": [
       "0.9714928732183046"
      ]
     },
     "execution_count": 104,
     "metadata": {},
     "output_type": "execute_result"
    }
   ],
   "source": [
    "Log = LogisticRegression(class_weight='balanced', random_state=0, solver='liblinear', max_iter=1000).fit(X_train, y_train)\n",
    "Log.score(X_test, y_test)"
   ]
  },
  {
   "cell_type": "code",
   "execution_count": 105,
   "id": "3a652e17-6323-4dfa-ba51-0923b3faec65",
   "metadata": {},
   "outputs": [
    {
     "name": "stdout",
     "output_type": "stream",
     "text": [
      "              precision    recall  f1-score   support\n",
      "\n",
      "           0       0.98      0.99      0.98      3197\n",
      "           1       0.95      0.90      0.93       802\n",
      "\n",
      "    accuracy                           0.97      3999\n",
      "   macro avg       0.96      0.95      0.95      3999\n",
      "weighted avg       0.97      0.97      0.97      3999\n",
      "\n",
      "0.9714928732183046\n",
      "ROC AUC = 0.9457412926863323\n"
     ]
    }
   ],
   "source": [
    "testpred = Log.predict(X_test)\n",
    "print(metrics.classification_report(y_test, testpred))\n",
    "print(metrics.accuracy_score(y_test, testpred))\n",
    "print(\"ROC AUC = \" + str(metrics.roc_auc_score(y_test, testpred)))"
   ]
  },
  {
   "cell_type": "markdown",
   "id": "e2815f16-bda9-454e-888e-a8bfe6c6bfd6",
   "metadata": {},
   "source": [
    "### Real Data Testing"
   ]
  },
  {
   "cell_type": "code",
   "execution_count": 106,
   "id": "3c5548a9-b080-4f82-9ffb-a69faaf42654",
   "metadata": {},
   "outputs": [
    {
     "name": "stdout",
     "output_type": "stream",
     "text": [
      "              precision    recall  f1-score   support\n",
      "\n",
      "           0       0.69      0.53      0.60       133\n",
      "           1       0.03      0.06      0.04        34\n",
      "\n",
      "    accuracy                           0.43       167\n",
      "   macro avg       0.36      0.29      0.32       167\n",
      "weighted avg       0.55      0.43      0.48       167\n",
      "\n",
      "0.4311377245508982\n",
      "ROC AUC = 0.2925696594427245\n"
     ]
    }
   ],
   "source": [
    "realtestpred = Log.predict(real_test_X)\n",
    "print(metrics.classification_report(real_test_Y, realtestpred))\n",
    "print(metrics.accuracy_score(real_test_Y, realtestpred))\n",
    "print(\"ROC AUC = \" + str(metrics.roc_auc_score(real_test_Y, realtestpred)))"
   ]
  },
  {
   "cell_type": "code",
   "execution_count": 107,
   "id": "57a49539-dd89-4b90-938a-aef4076c0ddf",
   "metadata": {},
   "outputs": [],
   "source": [
    "filename = 'logistic_model.sav'\n",
    "pickle.dump(Log, open(filename, 'wb'))"
   ]
  },
  {
   "cell_type": "markdown",
   "id": "6cb252cd-88c4-4d28-ac97-546c2e082a0a",
   "metadata": {},
   "source": [
    "## KNN"
   ]
  },
  {
   "cell_type": "code",
   "execution_count": 109,
   "id": "dbade00a-9d50-4d6b-bbe8-c7ff6bd896fe",
   "metadata": {},
   "outputs": [
    {
     "data": {
      "application/vnd.jupyter.widget-view+json": {
       "model_id": "",
       "version_major": 2,
       "version_minor": 0
      },
      "text/plain": [
       "Evaluating:   0%|          | 0/20 [00:00<?, ?it/s]"
      ]
     },
     "metadata": {},
     "output_type": "display_data"
    },
    {
     "data": {
      "image/png": "[encoded data removed]",
      "text/plain": [
       "<Figure size 1152x576 with 1 Axes>"
      ]
     },
     "metadata": {
      "needs_background": "light"
     },
     "output_type": "display_data"
    },
    {
     "name": "stdout",
     "output_type": "stream",
     "text": [
      "Best K Value: 2 | Best Score: 0.9982495623905977\n"
     ]
    }
   ],
   "source": [
    "accuracies = []\n",
    "precisions = []\n",
    "recalls = []\n",
    "ROCs = []\n",
    "\n",
    "ks = []\n",
    "best_score = 0\n",
    "best_k = 0\n",
    "knn_best_model = None\n",
    "for x in tqdm(range(1, 21), desc=\"Evaluating\", leave=False):\n",
    "    ks.append(x)\n",
    "    t = KNeighborsClassifier(n_neighbors=x, weights='distance').fit(X_train, y_train)\n",
    "    accuracies.append(t.score(X_test, y_test))\n",
    "    temp_pred = t.predict(X_test)\n",
    "    precisions.append(metrics.precision_score(y_test, temp_pred, pos_label=1, average='binary', zero_division=0))\n",
    "    recalls.append(metrics.recall_score(y_test, temp_pred, pos_label=1, average='binary'))\n",
    "    ROCs.append(metrics.roc_auc_score(y_test, temp_pred))\n",
    "    if t.score(X_test, y_test) >= best_score:\n",
    "        best_score = t.score(X_test, y_test)\n",
    "        best_k = x\n",
    "        knn_best_model = t\n",
    "\n",
    "\n",
    "\n",
    "\n",
    "\n",
    "\n",
    "\n",
    "plt.figure(figsize = (16, 8))\n",
    "plt.plot(ks, accuracies, label = \"Accuracy\", color = \"red\")\n",
    "plt.plot(ks, precisions, label = \"Precision\", color = \"blue\")\n",
    "plt.plot(ks, recalls, label = \"Recall\", color = \"green\")\n",
    "plt.plot(ks, ROCs, label = \"ROC AUC\", color = \"orange\")\n",
    "plt.legend()\n",
    "plt.xlabel(\"K Value\")\n",
    "plt.title(\"KNN Tuning\")\n",
    "plt.show()\n",
    "\n",
    "print(f\"Best K Value: {best_k} | Best Score: {best_score}\")"
   ]
  },
  {
   "cell_type": "markdown",
   "id": "be48f0ba-5e26-4841-a69f-643d84f02ba5",
   "metadata": {},
   "source": [
    "### Real Data Testing"
   ]
  },
  {
   "cell_type": "code",
   "execution_count": 110,
   "id": "1ea9e642-f1c4-4db9-b549-6456572b9701",
   "metadata": {},
   "outputs": [
    {
     "name": "stdout",
     "output_type": "stream",
     "text": [
      "              precision    recall  f1-score   support\n",
      "\n",
      "           0       0.80      1.00      0.89       133\n",
      "           1       0.00      0.00      0.00        34\n",
      "\n",
      "    accuracy                           0.80       167\n",
      "   macro avg       0.40      0.50      0.44       167\n",
      "weighted avg       0.63      0.80      0.71       167\n",
      "\n",
      "0.7964071856287425\n"
     ]
    },
    {
     "name": "stderr",
     "output_type": "stream",
     "text": [
      "C:\\Users\\Sam\\anaconda3\\lib\\site-packages\\sklearn\\metrics\\_classification.py:1245: UndefinedMetricWarning: Precision and F-score are ill-defined and being set to 0.0 in labels with no predicted samples. Use `zero_division` parameter to control this behavior.\n",
      "  _warn_prf(average, modifier, msg_start, len(result))\n",
      "C:\\Users\\Sam\\anaconda3\\lib\\site-packages\\sklearn\\metrics\\_classification.py:1245: UndefinedMetricWarning: Precision and F-score are ill-defined and being set to 0.0 in labels with no predicted samples. Use `zero_division` parameter to control this behavior.\n",
      "  _warn_prf(average, modifier, msg_start, len(result))\n",
      "C:\\Users\\Sam\\anaconda3\\lib\\site-packages\\sklearn\\metrics\\_classification.py:1245: UndefinedMetricWarning: Precision and F-score are ill-defined and being set to 0.0 in labels with no predicted samples. Use `zero_division` parameter to control this behavior.\n",
      "  _warn_prf(average, modifier, msg_start, len(result))\n"
     ]
    }
   ],
   "source": [
    "realknn_ypred = knn_best_model.predict(real_test_X)\n",
    "print(metrics.classification_report(real_test_Y, realknn_ypred))\n",
    "print(knn_best_model.score(real_test_X, real_test_Y))"
   ]
  },
  {
   "cell_type": "code",
   "execution_count": 111,
   "id": "af015e1e-63af-4221-b605-64b7dba9532f",
   "metadata": {},
   "outputs": [],
   "source": [
    "filename = 'knn_model.sav'\n",
    "pickle.dump(knn_best_model, open(filename, 'wb'))"
   ]
  },
  {
   "cell_type": "markdown",
   "id": "46a8f3e5-eef0-4ce9-821b-a69fc1e23d51",
   "metadata": {},
   "source": [
    "## Support Vector Machine"
   ]
  },
  {
   "cell_type": "code",
   "execution_count": 97,
   "id": "67955ac2-aaae-47fb-ad96-bad7f0a6483e",
   "metadata": {},
   "outputs": [
    {
     "data": {
      "application/vnd.jupyter.widget-view+json": {
       "model_id": "",
       "version_major": 2,
       "version_minor": 0
      },
      "text/plain": [
       "Evaluating:   0%|          | 0/4 [00:00<?, ?it/s]"
      ]
     },
     "metadata": {},
     "output_type": "display_data"
    },
    {
     "data": {
      "application/vnd.jupyter.widget-view+json": {
       "model_id": "",
       "version_major": 2,
       "version_minor": 0
      },
      "text/plain": [
       "Evaluating:   0%|          | 0/3 [00:00<?, ?it/s]"
      ]
     },
     "metadata": {},
     "output_type": "display_data"
    },
    {
     "name": "stdout",
     "output_type": "stream",
     "text": [
      "linear 1.0\n",
      "linear 0.1\n",
      "linear 0.001\n"
     ]
    },
    {
     "data": {
      "application/vnd.jupyter.widget-view+json": {
       "model_id": "",
       "version_major": 2,
       "version_minor": 0
      },
      "text/plain": [
       "Evaluating:   0%|          | 0/3 [00:00<?, ?it/s]"
      ]
     },
     "metadata": {},
     "output_type": "display_data"
    },
    {
     "name": "stdout",
     "output_type": "stream",
     "text": [
      "poly 1.0\n",
      "poly 0.1\n",
      "poly 0.001\n"
     ]
    },
    {
     "data": {
      "application/vnd.jupyter.widget-view+json": {
       "model_id": "",
       "version_major": 2,
       "version_minor": 0
      },
      "text/plain": [
       "Evaluating:   0%|          | 0/3 [00:00<?, ?it/s]"
      ]
     },
     "metadata": {},
     "output_type": "display_data"
    },
    {
     "name": "stdout",
     "output_type": "stream",
     "text": [
      "rbf 1.0\n",
      "rbf 0.1\n",
      "rbf 0.001\n"
     ]
    },
    {
     "data": {
      "application/vnd.jupyter.widget-view+json": {
       "model_id": "",
       "version_major": 2,
       "version_minor": 0
      },
      "text/plain": [
       "Evaluating:   0%|          | 0/3 [00:00<?, ?it/s]"
      ]
     },
     "metadata": {},
     "output_type": "display_data"
    },
    {
     "name": "stdout",
     "output_type": "stream",
     "text": [
      "sigmoid 1.0\n",
      "sigmoid 0.1\n",
      "sigmoid 0.001\n"
     ]
    },
    {
     "data": {
      "image/png": "[encoded data removed]",
      "text/plain": [
       "<Figure size 1152x576 with 1 Axes>"
      ]
     },
     "metadata": {
      "needs_background": "light"
     },
     "output_type": "display_data"
    },
    {
     "name": "stdout",
     "output_type": "stream",
     "text": [
      "Best Kernel: linear | Best Penalty: 1.0 | Best Score: 0.986496624156039\n"
     ]
    }
   ],
   "source": [
    "accuracies = []\n",
    "precisions = []\n",
    "recalls = []\n",
    "ROCs = []\n",
    "params = []\n",
    "\n",
    "kernels = ['linear', 'poly', 'rbf', 'sigmoid']\n",
    "penalties = [1.0, 0.1, 0.001] #[100, 10, 1.0, 0.1, 0.001]\n",
    "\n",
    "best_score = 0\n",
    "best_kernel = 'linear'\n",
    "best_penalty = 100\n",
    "svm_best_model = None\n",
    "\n",
    "\n",
    "for k in tqdm(kernels, desc=\"Evaluating\", leave=False):\n",
    "    for p in tqdm(penalties, desc=\"Evaluating\", leave=False):\n",
    "        params.append(f\"{k} {p}\")\n",
    "        t = svm.SVC(C = p, kernel = k, class_weight='balanced', random_state=0).fit(X_train, y_train)\n",
    "        accuracies.append(t.score(X_test, y_test))\n",
    "        temp_pred = t.predict(X_test)\n",
    "        precisions.append(metrics.precision_score(y_test, temp_pred, pos_label=1, average='binary', zero_division=0))\n",
    "        recalls.append(metrics.recall_score(y_test, temp_pred, pos_label=1, average='binary'))\n",
    "        ROCs.append(metrics.roc_auc_score(y_test, temp_pred))\n",
    "        if t.score(X_test, y_test) > best_score:\n",
    "            best_score = t.score(X_test, y_test)\n",
    "            best_kernel = k\n",
    "            best_penalty = p\n",
    "            svm_best_model = t\n",
    "        print(f\"{k} {p}\")\n",
    "\n",
    "\n",
    "\n",
    "plt.figure(figsize = (16, 8))\n",
    "plt.plot(params, accuracies, label = \"Accuracy\", color = \"red\")\n",
    "plt.plot(params, precisions, label = \"Precision\", color = \"blue\")\n",
    "plt.plot(params, recalls, label = \"Recall\", color = \"green\")\n",
    "plt.plot(params, ROCs, label = \"ROC AUC\", color = \"orange\")\n",
    "plt.legend()\n",
    "plt.xlabel(\"Parameter Combinations\")\n",
    "plt.title(\"SVM Tuning\")\n",
    "plt.show()\n",
    "\n",
    "print(f\"Best Kernel: {best_kernel} | Best Penalty: {best_penalty} | Best Score: {best_score}\")"
   ]
  },
  {
   "cell_type": "markdown",
   "id": "1ecacec1-8f0c-4ef6-b06f-2277e9c86207",
   "metadata": {},
   "source": [
    "### Real Data Testing"
   ]
  },
  {
   "cell_type": "code",
   "execution_count": 101,
   "id": "7daa0ddb-28e5-4c6f-976c-6f1a37bf7722",
   "metadata": {},
   "outputs": [
    {
     "name": "stdout",
     "output_type": "stream",
     "text": [
      "              precision    recall  f1-score   support\n",
      "\n",
      "           0       0.69      0.44      0.54       133\n",
      "           1       0.10      0.24      0.14        34\n",
      "\n",
      "    accuracy                           0.40       167\n",
      "   macro avg       0.40      0.34      0.34       167\n",
      "weighted avg       0.57      0.40      0.46       167\n",
      "\n",
      "ROC AUC = 0.33945157010172494\n"
     ]
    },
    {
     "data": {
      "text/plain": [
       "0.40119760479041916"
      ]
     },
     "execution_count": 101,
     "metadata": {},
     "output_type": "execute_result"
    }
   ],
   "source": [
    "realSVC_ypred = svm_best_model.predict(real_test_X)\n",
    "print(metrics.classification_report(real_test_Y, realSVC_ypred))\n",
    "print(\"ROC AUC = \" + str(metrics.roc_auc_score(real_test_Y, realSVC_ypred)))\n",
    "svm_best_model.score(real_test_X, real_test_Y)"
   ]
  },
  {
   "cell_type": "code",
   "execution_count": 102,
   "id": "e586d89a-81bc-414d-b2d7-802ad1232978",
   "metadata": {},
   "outputs": [],
   "source": [
    "filename = 'svm_model.sav'\n",
    "pickle.dump(svm_best_model, open(filename, 'wb'))"
   ]
  },
  {
   "cell_type": "markdown",
   "id": "4901846a-8395-49ff-982f-e91a53171df5",
   "metadata": {},
   "source": [
    "## Random Forest"
   ]
  },
  {
   "cell_type": "code",
   "execution_count": 113,
   "id": "4f5df958-20cb-42f7-b89e-4141507f2819",
   "metadata": {},
   "outputs": [
    {
     "data": {
      "application/vnd.jupyter.widget-view+json": {
       "model_id": "",
       "version_major": 2,
       "version_minor": 0
      },
      "text/plain": [
       "Evaluating:   0%|          | 0/2 [00:00<?, ?it/s]"
      ]
     },
     "metadata": {},
     "output_type": "display_data"
    },
    {
     "data": {
      "application/vnd.jupyter.widget-view+json": {
       "model_id": "",
       "version_major": 2,
       "version_minor": 0
      },
      "text/plain": [
       "Evaluating:   0%|          | 0/3 [00:00<?, ?it/s]"
      ]
     },
     "metadata": {},
     "output_type": "display_data"
    },
    {
     "data": {
      "application/vnd.jupyter.widget-view+json": {
       "model_id": "",
       "version_major": 2,
       "version_minor": 0
      },
      "text/plain": [
       "Evaluating:   0%|          | 0/3 [00:00<?, ?it/s]"
      ]
     },
     "metadata": {},
     "output_type": "display_data"
    },
    {
     "data": {
      "image/png": "[encoded data removed]",
      "text/plain": [
       "<Figure size 1152x576 with 1 Axes>"
      ]
     },
     "metadata": {
      "needs_background": "light"
     },
     "output_type": "display_data"
    },
    {
     "name": "stdout",
     "output_type": "stream",
     "text": [
      "Best n_estimator: 1000 | Best max_features: log2 | Best Score: 0.997249312328082\n"
     ]
    }
   ],
   "source": [
    "accuracies = []\n",
    "precisions = []\n",
    "recalls = []\n",
    "ROCAUCs = []\n",
    "params = []\n",
    "\n",
    "n_estims = [10, 100, 1000]\n",
    "max_feats = ['sqrt', 'log2'] #list(range(1,20))\n",
    "\n",
    "best_score = 0\n",
    "best_n_estim = 10\n",
    "best_max_feat = 1\n",
    "rf_best_model = None\n",
    "\n",
    "for m in tqdm(max_feats, desc=\"Evaluating\", leave=False):\n",
    "    for n in tqdm(n_estims, desc=\"Evaluating\", leave=False):\n",
    "        params.append(f\"{m} {n}\")\n",
    "        t = RandomForestClassifier(n_estimators=n, max_depth=None, max_features=m, random_state=0, class_weight=\"balanced\")\n",
    "        t = t.fit(X_train, y_train)\n",
    "        accuracies.append(t.score(X_test, y_test))\n",
    "        temp_pred = t.predict(X_test)\n",
    "        precisions.append(metrics.precision_score(y_test, temp_pred, pos_label=1, average='binary', zero_division=0))\n",
    "        recalls.append(metrics.recall_score(y_test, temp_pred, pos_label=1, average='binary'))\n",
    "        ROCAUCs.append(metrics.roc_auc_score(y_test, temp_pred))\n",
    "        if t.score(X_test, y_test) > best_score:\n",
    "            best_score = t.score(X_test, y_test)\n",
    "            best_n_estim = n\n",
    "            best_max_feat = m\n",
    "            rf_best_model = t\n",
    "\n",
    "        \n",
    "        \n",
    "plt.figure(figsize = (16, 8))\n",
    "plt.plot(params, accuracies, label = \"Accuracy\", color = \"red\")\n",
    "plt.plot(params, precisions, label = \"Precision\", color = \"blue\")\n",
    "plt.plot(params, recalls, label = \"Recall\", color = \"green\")\n",
    "plt.plot(params, ROCAUCs, label = \"ROC AUC\", color = \"orange\")\n",
    "plt.legend()\n",
    "plt.xlabel(\"Parameter Combinations\")\n",
    "plt.title(\"Random Forest Tuning\")\n",
    "plt.show()\n",
    "\n",
    "print(f\"Best n_estimator: {best_n_estim} | Best max_features: {best_max_feat} | Best Score: {best_score}\")"
   ]
  },
  {
   "cell_type": "markdown",
   "id": "2a507f91-c327-4ab3-850b-f78349a5f2ea",
   "metadata": {},
   "source": [
    "### Real Data Testing"
   ]
  },
  {
   "cell_type": "code",
   "execution_count": 114,
   "id": "449ac086-1d6c-4f58-8e3f-628776b2b684",
   "metadata": {},
   "outputs": [
    {
     "name": "stdout",
     "output_type": "stream",
     "text": [
      "              precision    recall  f1-score   support\n",
      "\n",
      "           0       0.77      0.37      0.50       133\n",
      "           1       0.18      0.56      0.28        34\n",
      "\n",
      "    accuracy                           0.41       167\n",
      "   macro avg       0.48      0.46      0.39       167\n",
      "weighted avg       0.65      0.41      0.45       167\n",
      "\n",
      "ROC AUC = 0.46362229102167185\n"
     ]
    },
    {
     "data": {
      "text/plain": [
       "0.40718562874251496"
      ]
     },
     "execution_count": 114,
     "metadata": {},
     "output_type": "execute_result"
    }
   ],
   "source": [
    "realRF_ypred = rf_best_model.predict(real_test_X)\n",
    "print(metrics.classification_report(real_test_Y, realRF_ypred))\n",
    "print(\"ROC AUC = \" + str(metrics.roc_auc_score(real_test_Y, realRF_ypred)))\n",
    "rf_best_model.score(real_test_X, real_test_Y)"
   ]
  },
  {
   "cell_type": "code",
   "execution_count": 115,
   "id": "b2c49371-f54a-435f-be13-f9f3caf45d73",
   "metadata": {},
   "outputs": [],
   "source": [
    "filename = 'rf_model.sav'\n",
    "pickle.dump(rf_best_model, open(filename, 'wb'))"
   ]
  },
  {
   "cell_type": "markdown",
   "id": "c7bee9f2-cdf8-4bee-8308-078c63d88d25",
   "metadata": {},
   "source": [
    "## Results"
   ]
  },
  {
   "cell_type": "code",
   "execution_count": 127,
   "id": "f362a9c3-ad8f-4077-b2d2-0b7e97f59046",
   "metadata": {},
   "outputs": [
    {
     "name": "stdout",
     "output_type": "stream",
     "text": [
      "0.7895\n",
      "0.4311377245508982\n",
      "0.7964071856287425\n",
      "0.40119760479041916\n",
      "0.40718562874251496\n"
     ]
    }
   ],
   "source": [
    "mlp_score = 0.7895\n",
    "log_score = metrics.accuracy_score(real_test_Y, realtestpred)\n",
    "knn_score = knn_best_model.score(real_test_X, real_test_Y)\n",
    "svm_score = svm_best_model.score(real_test_X, real_test_Y)\n",
    "rf_score = rf_best_model.score(real_test_X, real_test_Y)\n",
    "\n",
    "scores = [mlp_score, log_score, knn_score, svm_score, rf_score]\n",
    "names = ['MLP', 'Log', 'KNN', 'SVM', 'RF']\n",
    "\n",
    "print(mlp_score)\n",
    "print(log_score)\n",
    "print(knn_score)\n",
    "print(svm_score)\n",
    "print(rf_score)"
   ]
  },
  {
   "cell_type": "code",
   "execution_count": 128,
   "id": "78100d82-d2e0-4819-a2e2-d7bd31f8dbeb",
   "metadata": {},
   "outputs": [
    {
     "data": {
      "image/png": "[encoded data removed]",
      "text/plain": [
       "<Figure size 432x288 with 1 Axes>"
      ]
     },
     "metadata": {
      "needs_background": "light"
     },
     "output_type": "display_data"
    }
   ],
   "source": [
    "plt.xticks(range(len(scores)), names)\n",
    "plt.xlabel('Model')\n",
    "plt.ylabel('Score')\n",
    "plt.title('Results')\n",
    "plt.bar(range(len(scores)), scores) \n",
    "plt.show()"
   ]
  },
  {
   "cell_type": "code",
   "execution_count": null,
   "id": "61ddd1ab-3b09-46b8-8118-1d845a1b2b18",
   "metadata": {},
   "outputs": [],
   "source": []
  }
 ],
 "metadata": {
  "kernelspec": {
   "display_name": "Python 3",
   "language": "python",
   "name": "python3"
  },
  "language_info": {
   "codemirror_mode": {
    "name": "ipython",
    "version": 3
   },
   "file_extension": ".py",
   "mimetype": "text/x-python",
   "name": "python",
   "nbconvert_exporter": "python",
   "pygments_lexer": "ipython3",
   "version": "3.8.8"
  }
 },
 "nbformat": 4,
 "nbformat_minor": 5
}
