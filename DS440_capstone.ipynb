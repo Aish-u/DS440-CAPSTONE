{
 "cells": [
  {
   "cell_type": "code",
   "execution_count": 17,
   "id": "70d8b6c7",
   "metadata": {},
   "outputs": [],
   "source": [
    "#!pip install torch\n",
    "#packages \n",
    "#Load packages :pytorch, sklearn etc.,\n",
    "import numpy as np\n",
    "import pandas as pd\n",
    "import random\n",
    "import os\n",
    "\n",
    "import matplotlib.pyplot as plt\n",
    "from sklearn.metrics import plot_confusion_matrix\n",
    "\n",
    "\n",
    "import torch\n",
    "import torch.nn as nn\n",
    "import torch.nn.functional as F\n",
    "import torch.optim as optim\n",
    "import torch.utils.data as data\n",
    "\n",
    "import torchvision.transforms as transforms\n",
    "import torchvision.datasets as datasets\n",
    "#from torchvision.transforms import Normalize\n",
    "from sklearn.preprocessing import MinMaxScaler\n",
    "\n",
    "from sklearn import metrics\n",
    "from sklearn import decomposition\n",
    "from sklearn import manifold\n",
    "from tqdm.notebook import trange, tqdm\n",
    "from sklearn.preprocessing import MinMaxScaler\n",
    "from sklearn.model_selection import train_test_split\n",
    "\n",
    "import copy\n",
    "import time\n"
   ]
  },
  {
   "cell_type": "raw",
   "id": "6f462a80",
   "metadata": {},
   "source": []
  },
  {
   "cell_type": "code",
   "execution_count": 3,
   "id": "0dccbf69",
   "metadata": {},
   "outputs": [],
   "source": [
    "#reading in the .npz file to train the model \n",
    "def get_training_data(load=False, datafile ='test_sn.npz'):\n",
    "    \n",
    "    if not load:\n",
    "        # This grabs the training data files from the appropriate directory\n",
    "        mypath = './DS440-CAPSTONE/'\n",
    "        training_data_files = [f for f in listdir(mypath) if isfile(join(mypath, f))]\n",
    "        \n",
    "        training_t = []  \n",
    "        training_f = []\n",
    "        training_class = []\n",
    "        training_info = []\n",
    "        for f in training_data_files:\n",
    "            data = np.load(mypath+f)\n",
    "            all_time=data['all_time']\n",
    "            all_flux=data['all_flux']\n",
    "            ra = data['ra']\n",
    "            dec = data['dec']\n",
    "            injmu_percentile=data['injmu_percentile']\n",
    "            injduration=data['injduration']\n",
    "            injloc_x=-1 * data['injloc_x']\n",
    "            injloc_y=-1 * data['injloc_y']\n",
    "            injpeak=data['injpeak']\n",
    "            \n",
    "            info = ra,dec,injmu_percentile,injduration,injloc_x,injloc_y,injpeak #injduration, injpeak\n",
    "            for i, t in enumerate(all_time):\n",
    "                f = all_flux[i]\n",
    "                row = np.floor(i/9) - 4\n",
    "                col = i%9 - 4\n",
    "                if np.all(np.isnan(f)):\n",
    "                    continue\n",
    "                if np.sqrt((row - injloc_x)**2 + (col-injloc_y)**2)<=2:\n",
    "                    training_t.append(t)\n",
    "                    training_f.append(f)\n",
    "                    training_class.append(1)\n",
    "                    training_info.append(info)\n",
    "                    \n",
    "                elif np.sqrt((row - injloc_x)**2 + (col-injloc_y)**2)>5:\n",
    "                    training_t.append(t)\n",
    "                    training_f.append(f)\n",
    "                    training_class.append(0)\n",
    "                    training_info.append(info)\n",
    "        np.savez(datafile,training_t = training_t, training_f = training_f,\n",
    "                training_class = training_class, training_info = training_info)\n",
    "        return training_t, training_f,training_class,training_info\n",
    "    else:\n",
    "        data = np.load(datafile, allow_pickle=True)\n",
    "        training_t = data['training_t']         # needs to be padded and then shuffled\n",
    "        training_f = data['training_f']         \n",
    "        training_class = data['training_class']  \n",
    "        training_info = data['training_info']   \n",
    "        return training_t, training_f,training_class,training_info\n",
    "training_t, training_f,training_class,training_info = get_training_data(load=True)"
   ]
  },
  {
   "cell_type": "code",
   "execution_count": 4,
   "id": "b83232f5",
   "metadata": {},
   "outputs": [],
   "source": [
    "#padding the arrays to match the max size\n",
    "longest_len = 3658\n",
    "for i in np.arange(len(training_t)):\n",
    "    mylen = len(training_t[i])\n",
    "    if mylen>longest_len:\n",
    "        longest_len = mylen\n",
    "new_training_t = np.zeros((len(training_t),longest_len))\n",
    "new_training_f = np.zeros((len(training_t),longest_len))\n",
    "for i in np.arange(len(training_t)):\n",
    "    nl = len(training_t[i])\n",
    "    before_N=int(longest_len/2-(nl/2))\n",
    "    new_training_t[i,before_N:nl+before_N] = training_t[i]   # Data to be used\n",
    "    new_training_f[i,before_N:nl+before_N] = training_f[i]   # Data to be used"
   ]
  },
  {
   "cell_type": "code",
   "execution_count": 5,
   "id": "bc7fe636-9e81-41b2-ace5-fc231f5d141a",
   "metadata": {},
   "outputs": [],
   "source": [
    "float_nt_f = new_training_f.astype(np.float64)"
   ]
  },
  {
   "cell_type": "code",
   "execution_count": 6,
   "id": "07fb2923",
   "metadata": {},
   "outputs": [
    {
     "data": {
      "text/plain": [
       "numpy.ndarray"
      ]
     },
     "execution_count": 6,
     "metadata": {},
     "output_type": "execute_result"
    }
   ],
   "source": [
    "type(float_nt_f)"
   ]
  },
  {
   "cell_type": "code",
   "execution_count": 7,
   "id": "b0caf7ac-3204-4804-9fe9-61729a57d0d0",
   "metadata": {},
   "outputs": [
    {
     "data": {
      "text/plain": [
       "array([[0., 0., 0., ..., 0., 0., 0.],\n",
       "       [0., 0., 0., ..., 0., 0., 0.],\n",
       "       [0., 0., 0., ..., 0., 0., 0.],\n",
       "       ...,\n",
       "       [0., 0., 0., ..., 0., 0., 0.],\n",
       "       [0., 0., 0., ..., 0., 0., 0.],\n",
       "       [0., 0., 0., ..., 0., 0., 0.]])"
      ]
     },
     "execution_count": 7,
     "metadata": {},
     "output_type": "execute_result"
    }
   ],
   "source": [
    "float_nt_f"
   ]
  },
  {
   "cell_type": "code",
   "execution_count": 8,
   "id": "8e26bd12-274c-4e0b-8dab-b3f35f2c0db9",
   "metadata": {},
   "outputs": [
    {
     "data": {
      "text/plain": [
       "(20398, 3658)"
      ]
     },
     "execution_count": 8,
     "metadata": {},
     "output_type": "execute_result"
    }
   ],
   "source": [
    "new_training_f.shape"
   ]
  },
  {
   "cell_type": "code",
   "execution_count": 9,
   "id": "acc47e51",
   "metadata": {},
   "outputs": [
    {
     "data": {
      "text/plain": [
       "(20398,)"
      ]
     },
     "execution_count": 9,
     "metadata": {},
     "output_type": "execute_result"
    }
   ],
   "source": [
    "training_class.shape"
   ]
  },
  {
   "cell_type": "code",
   "execution_count": 10,
   "id": "e210a181",
   "metadata": {},
   "outputs": [],
   "source": [
    "# introducing balanced dataset \n",
    "\n",
    "#new set with 50/50 SNe\n",
    "count_arr = np.bincount(training_class)\n",
    "count1 = count_arr[1]\n",
    "count0 = count_arr[0]\n",
    "\n",
    "#get index of 0's, 1's-> np.where \n",
    "#np.random.choice?(replace= False ) returns a random sample of zeroes. \n",
    "\n",
    "zero=np.where(training_class==0)[0]  # the [0] just means the first \"element\" in this case array is selected. np.where makes a matrix of size nx2 for some reason \n",
    "one = np.where(training_class==1)[0] \n",
    "#get the indexes\n",
    "train_c0 = np.random.choice(zero, size=3900, replace=False, p=None)\n",
    "train_f0 = new_training_f[train_c0]\n",
    "train_c00= training_class[train_c0]\n",
    "\n",
    "train_f1 = new_training_f[one]\n",
    "train_c11 = training_class[one]\n",
    "\n",
    "train_c_all = np.append(train_c00,train_c11)\n",
    "train_f_all = np.vstack((train_f0,train_f1))"
   ]
  },
  {
   "cell_type": "code",
   "execution_count": 11,
   "id": "5d273cc9",
   "metadata": {},
   "outputs": [
    {
     "name": "stdout",
     "output_type": "stream",
     "text": [
      "3900\n"
     ]
    }
   ],
   "source": [
    "one = np.where(training_class==1)[0] \n",
    "print(len(one))"
   ]
  },
  {
   "cell_type": "code",
   "execution_count": 18,
   "id": "3c63b15c",
   "metadata": {},
   "outputs": [],
   "source": [
    "scaler = MinMaxScaler()\n",
    "\n",
    "train_f_all = scaler.fit_transform(train_f_all.T).T"
   ]
  },
  {
   "cell_type": "code",
   "execution_count": 20,
   "id": "01ed611e-31f2-435b-9209-405fbbe39d4d",
   "metadata": {},
   "outputs": [],
   "source": [
    "class CustomDataset(data.Dataset):\n",
    "    def __init__(self, train_c_all, train_f_all, transform=None, target_transform=None):   #train_c_all,train_f_all -                                                                                    \n",
    "        self.labels = train_c_all                                                       #from balanced set \n",
    "        self.data = train_f_all\n",
    "        self.transform = transform\n",
    "        self.target_transform = target_transform\n",
    "        \n",
    "        \n",
    "\n",
    "    def __len__(self):\n",
    "        return len(self.labels)\n",
    "\n",
    "    def __getitem__(self, idx):\n",
    "        #img_path = os.path.join(self.data, self.labels.iloc[idx, 0])\n",
    "        curve = self.data[idx]\n",
    "        label = self.labels[idx]\n",
    "        if self.transform:\n",
    "            curve = self.transform(curve)\n",
    "        if self.target_transform:\n",
    "            label = self.target_transform(label)\n",
    "        return curve, label"
   ]
  },
  {
   "cell_type": "code",
   "execution_count": 21,
   "id": "c7a159b7-2c9e-4754-a145-4ef551eda926",
   "metadata": {},
   "outputs": [],
   "source": [
    "train = CustomDataset(train_c_all, train_f_all, transform=None, target_transform=None)"
   ]
  },
  {
   "cell_type": "code",
   "execution_count": 22,
   "id": "89bc90d3-72e6-4c33-86ab-bc989fe478c0",
   "metadata": {},
   "outputs": [],
   "source": [
    "VALID_RATIO = 0.9\n",
    "TEST_RATIO = 0.66\n",
    "\n",
    "n_train_examples = int(len(train) * TEST_RATIO)\n",
    "n_test_examples = len(train) - n_train_examples\n",
    "n_train_examples = int(n_train_examples * VALID_RATIO)\n",
    "n_valid_examples = len(train) - n_test_examples - n_train_examples"
   ]
  },
  {
   "cell_type": "code",
   "execution_count": 23,
   "id": "5cb3ab38-280c-4757-a983-1a4758422f26",
   "metadata": {},
   "outputs": [],
   "source": [
    "train_data, test_data, valid_data = data.random_split(train, [n_train_examples, n_test_examples, n_valid_examples])"
   ]
  },
  {
   "cell_type": "code",
   "execution_count": 24,
   "id": "98fc496a-f821-432d-8469-797d287ec922",
   "metadata": {},
   "outputs": [],
   "source": [
    "BATCH_SIZE = 64\n",
    "\n",
    "train_iterator = data.DataLoader(train_data, shuffle=True, batch_size=BATCH_SIZE)\n",
    "\n",
    "valid_iterator = data.DataLoader(valid_data, batch_size=BATCH_SIZE)\n",
    "\n",
    "test_iterator = data.DataLoader(test_data, batch_size=BATCH_SIZE)"
   ]
  },
  {
   "cell_type": "code",
   "execution_count": null,
   "id": "182dbe58-5824-4f99-8a25-828230d63888",
   "metadata": {
    "scrolled": true
   },
   "outputs": [],
   "source": []
  },
  {
   "cell_type": "code",
   "execution_count": 25,
   "id": "544a9108-de41-44fe-813c-d6d2e5be951b",
   "metadata": {},
   "outputs": [],
   "source": [
    "class MLP(nn.Module):\n",
    "    def __init__(self, input_dim, output_dim):\n",
    "        super().__init__()\n",
    "\n",
    "        self.input_fc = nn.Linear(input_dim, 1400)\n",
    "        self.hidden_fc1 = nn.Linear(1400, 530)\n",
    "        self.hidden_fc2 = nn.Linear(530, 200)\n",
    "        self.hidden_fc3 = nn.Linear(200, 80)\n",
    "        self.output_fc = nn.Linear(80, output_dim)\n",
    "\n",
    "    def forward(self, x):\n",
    "\n",
    "        # x = [batch size, height, width]\n",
    "\n",
    "        batch_size = x.shape[0]\n",
    "\n",
    "        x = x.view(batch_size, -1)\n",
    "\n",
    "        # x = [batch size, height * width]\n",
    "\n",
    "        h_1 = F.relu(self.input_fc(x))\n",
    "\n",
    "        # h_1 = [batch size, 1400]\n",
    "\n",
    "        h_2 = F.relu(self.hidden_fc1(h_1))\n",
    "\n",
    "        # h_2 = [batch size, 530]\n",
    "        \n",
    "        h_3 = F.relu(self.hidden_fc2(h_2))\n",
    "\n",
    "        # h_3 = [batch size, 200]\n",
    "        \n",
    "        h_4 = F.relu(self.hidden_fc3(h_3))\n",
    "\n",
    "        # h_4 = [batch size, 80]\n",
    "\n",
    "        y_pred = self.output_fc(h_4)\n",
    "\n",
    "        # y_pred = [batch size, output dim]\n",
    "\n",
    "        return y_pred, h_4"
   ]
  },
  {
   "cell_type": "markdown",
   "id": "61e045d9-aa16-4623-bf36-96ca5942e29d",
   "metadata": {},
   "source": [
    "define our model by creating an instance of it and setting the correct input and output dimensions."
   ]
  },
  {
   "cell_type": "code",
   "execution_count": 26,
   "id": "12d6a268-497b-4362-950d-26cd4b931048",
   "metadata": {},
   "outputs": [],
   "source": [
    "INPUT_DIM = 3658\n",
    "OUTPUT_DIM = 2\n",
    "\n",
    "model = MLP(INPUT_DIM, OUTPUT_DIM)"
   ]
  },
  {
   "cell_type": "markdown",
   "id": "81952984-46f0-4b22-bbec-b95c432e6bb0",
   "metadata": {},
   "source": [
    "calculate the number of trainable parameters"
   ]
  },
  {
   "cell_type": "code",
   "execution_count": 27,
   "id": "b0bfc3f5-e7ee-4d23-b2f1-834125f25f73",
   "metadata": {},
   "outputs": [],
   "source": [
    "def count_parameters(model):\n",
    "    return sum(p.numel() for p in model.parameters() if p.requires_grad)"
   ]
  },
  {
   "cell_type": "markdown",
   "id": "5bca8750-ab78-4b4a-8039-11c6a7f4c6b1",
   "metadata": {},
   "source": [
    "The first layer has 3658 neurons connected to 1400 neurons, so 3658*1400 weighted connections plus 1400 bias terms.\n",
    "\n",
    "The second layer has 1400 neurons connected to 530 neurons, 1400*530 weighted connections plus 530 bias terms.\n",
    "\n",
    "The third layer has 530 neurons connected to 200 neurons, 530*200 weighted connections plus 200 bias terms.\n",
    "\n",
    "The fourth layer has 200 neurons connected to 80 neurons, 200*80 weighted connections plus 80 bias terms.\n",
    "\n",
    "The fifth layer has 80 neurons connected to 2 neurons, 80*2 weighted connections plus 2 bias terms.\n",
    "\n",
    "$$3658 \\cdot 1400 + 1400 + 1400 \\cdot 530 + 530 + 530 \\cdot 200 + 200 + 200 \\cdot 80 + 80 + 80 \\cdot 2 + 2 = 5,987,572 $$"
   ]
  },
  {
   "cell_type": "code",
   "execution_count": 28,
   "id": "63d259c6-a378-4aa2-a8eb-0716784043cc",
   "metadata": {},
   "outputs": [
    {
     "name": "stdout",
     "output_type": "stream",
     "text": [
      "The model has 5,987,572 trainable parameters\n"
     ]
    }
   ],
   "source": [
    "print(f'The model has {count_parameters(model):,} trainable parameters')"
   ]
  },
  {
   "cell_type": "code",
   "execution_count": 29,
   "id": "1cd5c6d0-dd38-4bd5-af6f-a497eee62197",
   "metadata": {},
   "outputs": [],
   "source": [
    "optimizer = optim.Adam(model.parameters())  # lr = 0.1, momentum =0.9"
   ]
  },
  {
   "cell_type": "code",
   "execution_count": 30,
   "id": "16f4f196-0463-4fd2-a9fb-cb6d01fd6124",
   "metadata": {},
   "outputs": [],
   "source": [
    "criterion = nn.CrossEntropyLoss()"
   ]
  },
  {
   "cell_type": "code",
   "execution_count": 31,
   "id": "c0ba512e-83a8-40e6-9e1d-6a279fda9d36",
   "metadata": {},
   "outputs": [],
   "source": [
    "device = torch.device('cuda' if torch.cuda.is_available() else 'cpu')"
   ]
  },
  {
   "cell_type": "code",
   "execution_count": 32,
   "id": "fc8a6f3d-8501-42bb-964c-909b2757101f",
   "metadata": {},
   "outputs": [],
   "source": [
    "model = model.to(device)\n",
    "criterion = criterion.to(device)"
   ]
  },
  {
   "cell_type": "code",
   "execution_count": 34,
   "id": "14b0b449-acaa-4cbd-8aa4-19851bb4ca92",
   "metadata": {},
   "outputs": [],
   "source": [
    "def calculate_accuracy(y_pred, y):\n",
    "    top_pred = y_pred.argmax(1, keepdim=True)\n",
    "    correct = top_pred.eq(y.view_as(top_pred)).sum()\n",
    "    acc = correct.float() / y.shape[0]\n",
    "    return acc"
   ]
  },
  {
   "cell_type": "code",
   "execution_count": 35,
   "id": "f3a611fe-69a7-4383-b54a-56ba5b942aa7",
   "metadata": {},
   "outputs": [],
   "source": [
    "def train(model, iterator, optimizer, criterion, device):\n",
    "\n",
    "    epoch_loss = 0\n",
    "    epoch_acc = 0\n",
    "\n",
    "    model.train()\n",
    "\n",
    "    for (x, y) in tqdm(iterator, desc=\"Training\", leave=False):\n",
    "\n",
    "        x = x.to(device)\n",
    "        y = y.to(device)\n",
    "\n",
    "        optimizer.zero_grad()\n",
    "\n",
    "        y_pred, _ = model(x.float())\n",
    "\n",
    "        loss = criterion(y_pred, y)\n",
    "\n",
    "        acc = calculate_accuracy(y_pred, y)\n",
    "\n",
    "        loss.backward()\n",
    "\n",
    "        optimizer.step()\n",
    "\n",
    "        epoch_loss += loss.item()\n",
    "        epoch_acc += acc.item()\n",
    "\n",
    "    return epoch_loss / len(iterator), epoch_acc / len(iterator)"
   ]
  },
  {
   "cell_type": "code",
   "execution_count": 36,
   "id": "f4551b11-d59f-43d6-93a3-927ce116ec09",
   "metadata": {},
   "outputs": [],
   "source": [
    "def evaluate(model, iterator, criterion, device):\n",
    "\n",
    "    epoch_loss = 0\n",
    "    epoch_acc = 0\n",
    "\n",
    "    model.eval()\n",
    "\n",
    "    with torch.no_grad():\n",
    "\n",
    "        for (x, y) in tqdm(iterator, desc=\"Evaluating\", leave=False):\n",
    "\n",
    "            x = x.to(device)\n",
    "            y = y.to(device)\n",
    "\n",
    "            y_pred, _ = model(x.float())\n",
    "\n",
    "            loss = criterion(y_pred, y)\n",
    "\n",
    "            acc = calculate_accuracy(y_pred, y)\n",
    "\n",
    "            epoch_loss += loss.item()\n",
    "            epoch_acc += acc.item()\n",
    "\n",
    "    return epoch_loss / len(iterator), epoch_acc / len(iterator)"
   ]
  },
  {
   "cell_type": "code",
   "execution_count": 37,
   "id": "afb090a9-8c92-47c7-96c8-76a7ec70bd21",
   "metadata": {},
   "outputs": [],
   "source": [
    "def epoch_time(start_time, end_time):\n",
    "    elapsed_time = end_time - start_time\n",
    "    elapsed_mins = int(elapsed_time / 60)\n",
    "    elapsed_secs = int(elapsed_time - (elapsed_mins * 60))\n",
    "    return elapsed_mins, elapsed_secs"
   ]
  },
  {
   "cell_type": "code",
   "execution_count": 38,
   "id": "d37cd409-4a3a-466c-b646-5a07af3a02fd",
   "metadata": {},
   "outputs": [
    {
     "data": {
      "application/vnd.jupyter.widget-view+json": {
       "model_id": "fa2d6e630f67440e84faaec252906ff0",
       "version_major": 2,
       "version_minor": 0
      },
      "text/plain": [
       "  0%|          | 0/10 [00:00<?, ?it/s]"
      ]
     },
     "metadata": {},
     "output_type": "display_data"
    },
    {
     "data": {
      "application/vnd.jupyter.widget-view+json": {
       "model_id": "",
       "version_major": 2,
       "version_minor": 0
      },
      "text/plain": [
       "Training:   0%|          | 0/73 [00:00<?, ?it/s]"
      ]
     },
     "metadata": {},
     "output_type": "display_data"
    },
    {
     "data": {
      "application/vnd.jupyter.widget-view+json": {
       "model_id": "",
       "version_major": 2,
       "version_minor": 0
      },
      "text/plain": [
       "Evaluating:   0%|          | 0/9 [00:00<?, ?it/s]"
      ]
     },
     "metadata": {},
     "output_type": "display_data"
    },
    {
     "name": "stdout",
     "output_type": "stream",
     "text": [
      "Epoch: 01 | Epoch Time: 0m 8s\n",
      "\tTrain Loss: 0.524 | Train Acc: 73.54%\n",
      "\t Val. Loss: 0.417 |  Val. Acc: 86.28%\n"
     ]
    },
    {
     "data": {
      "application/vnd.jupyter.widget-view+json": {
       "model_id": "",
       "version_major": 2,
       "version_minor": 0
      },
      "text/plain": [
       "Training:   0%|          | 0/73 [00:00<?, ?it/s]"
      ]
     },
     "metadata": {},
     "output_type": "display_data"
    },
    {
     "data": {
      "application/vnd.jupyter.widget-view+json": {
       "model_id": "",
       "version_major": 2,
       "version_minor": 0
      },
      "text/plain": [
       "Evaluating:   0%|          | 0/9 [00:00<?, ?it/s]"
      ]
     },
     "metadata": {},
     "output_type": "display_data"
    },
    {
     "name": "stdout",
     "output_type": "stream",
     "text": [
      "Epoch: 02 | Epoch Time: 0m 8s\n",
      "\tTrain Loss: 0.377 | Train Acc: 87.17%\n",
      "\t Val. Loss: 0.376 |  Val. Acc: 87.85%\n"
     ]
    },
    {
     "data": {
      "application/vnd.jupyter.widget-view+json": {
       "model_id": "",
       "version_major": 2,
       "version_minor": 0
      },
      "text/plain": [
       "Training:   0%|          | 0/73 [00:00<?, ?it/s]"
      ]
     },
     "metadata": {},
     "output_type": "display_data"
    },
    {
     "data": {
      "application/vnd.jupyter.widget-view+json": {
       "model_id": "",
       "version_major": 2,
       "version_minor": 0
      },
      "text/plain": [
       "Evaluating:   0%|          | 0/9 [00:00<?, ?it/s]"
      ]
     },
     "metadata": {},
     "output_type": "display_data"
    },
    {
     "name": "stdout",
     "output_type": "stream",
     "text": [
      "Epoch: 03 | Epoch Time: 0m 8s\n",
      "\tTrain Loss: 0.354 | Train Acc: 86.90%\n",
      "\t Val. Loss: 0.304 |  Val. Acc: 89.24%\n"
     ]
    },
    {
     "data": {
      "application/vnd.jupyter.widget-view+json": {
       "model_id": "",
       "version_major": 2,
       "version_minor": 0
      },
      "text/plain": [
       "Training:   0%|          | 0/73 [00:00<?, ?it/s]"
      ]
     },
     "metadata": {},
     "output_type": "display_data"
    },
    {
     "data": {
      "application/vnd.jupyter.widget-view+json": {
       "model_id": "",
       "version_major": 2,
       "version_minor": 0
      },
      "text/plain": [
       "Evaluating:   0%|          | 0/9 [00:00<?, ?it/s]"
      ]
     },
     "metadata": {},
     "output_type": "display_data"
    },
    {
     "name": "stdout",
     "output_type": "stream",
     "text": [
      "Epoch: 04 | Epoch Time: 0m 8s\n",
      "\tTrain Loss: 0.280 | Train Acc: 89.98%\n",
      "\t Val. Loss: 0.271 |  Val. Acc: 90.97%\n"
     ]
    },
    {
     "data": {
      "application/vnd.jupyter.widget-view+json": {
       "model_id": "",
       "version_major": 2,
       "version_minor": 0
      },
      "text/plain": [
       "Training:   0%|          | 0/73 [00:00<?, ?it/s]"
      ]
     },
     "metadata": {},
     "output_type": "display_data"
    },
    {
     "data": {
      "application/vnd.jupyter.widget-view+json": {
       "model_id": "",
       "version_major": 2,
       "version_minor": 0
      },
      "text/plain": [
       "Evaluating:   0%|          | 0/9 [00:00<?, ?it/s]"
      ]
     },
     "metadata": {},
     "output_type": "display_data"
    },
    {
     "name": "stdout",
     "output_type": "stream",
     "text": [
      "Epoch: 05 | Epoch Time: 0m 8s\n",
      "\tTrain Loss: 0.244 | Train Acc: 91.09%\n",
      "\t Val. Loss: 0.277 |  Val. Acc: 90.10%\n"
     ]
    },
    {
     "data": {
      "application/vnd.jupyter.widget-view+json": {
       "model_id": "",
       "version_major": 2,
       "version_minor": 0
      },
      "text/plain": [
       "Training:   0%|          | 0/73 [00:00<?, ?it/s]"
      ]
     },
     "metadata": {},
     "output_type": "display_data"
    },
    {
     "data": {
      "application/vnd.jupyter.widget-view+json": {
       "model_id": "",
       "version_major": 2,
       "version_minor": 0
      },
      "text/plain": [
       "Evaluating:   0%|          | 0/9 [00:00<?, ?it/s]"
      ]
     },
     "metadata": {},
     "output_type": "display_data"
    },
    {
     "name": "stdout",
     "output_type": "stream",
     "text": [
      "Epoch: 06 | Epoch Time: 0m 8s\n",
      "\tTrain Loss: 0.232 | Train Acc: 91.14%\n",
      "\t Val. Loss: 0.270 |  Val. Acc: 90.80%\n"
     ]
    },
    {
     "data": {
      "application/vnd.jupyter.widget-view+json": {
       "model_id": "",
       "version_major": 2,
       "version_minor": 0
      },
      "text/plain": [
       "Training:   0%|          | 0/73 [00:00<?, ?it/s]"
      ]
     },
     "metadata": {},
     "output_type": "display_data"
    },
    {
     "data": {
      "application/vnd.jupyter.widget-view+json": {
       "model_id": "",
       "version_major": 2,
       "version_minor": 0
      },
      "text/plain": [
       "Evaluating:   0%|          | 0/9 [00:00<?, ?it/s]"
      ]
     },
     "metadata": {},
     "output_type": "display_data"
    },
    {
     "name": "stdout",
     "output_type": "stream",
     "text": [
      "Epoch: 07 | Epoch Time: 0m 9s\n",
      "\tTrain Loss: 0.252 | Train Acc: 90.73%\n",
      "\t Val. Loss: 0.234 |  Val. Acc: 92.88%\n"
     ]
    },
    {
     "data": {
      "application/vnd.jupyter.widget-view+json": {
       "model_id": "",
       "version_major": 2,
       "version_minor": 0
      },
      "text/plain": [
       "Training:   0%|          | 0/73 [00:00<?, ?it/s]"
      ]
     },
     "metadata": {},
     "output_type": "display_data"
    },
    {
     "data": {
      "application/vnd.jupyter.widget-view+json": {
       "model_id": "",
       "version_major": 2,
       "version_minor": 0
      },
      "text/plain": [
       "Evaluating:   0%|          | 0/9 [00:00<?, ?it/s]"
      ]
     },
     "metadata": {},
     "output_type": "display_data"
    },
    {
     "name": "stdout",
     "output_type": "stream",
     "text": [
      "Epoch: 08 | Epoch Time: 0m 8s\n",
      "\tTrain Loss: 0.227 | Train Acc: 91.78%\n",
      "\t Val. Loss: 0.267 |  Val. Acc: 90.10%\n"
     ]
    },
    {
     "data": {
      "application/vnd.jupyter.widget-view+json": {
       "model_id": "",
       "version_major": 2,
       "version_minor": 0
      },
      "text/plain": [
       "Training:   0%|          | 0/73 [00:00<?, ?it/s]"
      ]
     },
     "metadata": {},
     "output_type": "display_data"
    },
    {
     "data": {
      "application/vnd.jupyter.widget-view+json": {
       "model_id": "",
       "version_major": 2,
       "version_minor": 0
      },
      "text/plain": [
       "Evaluating:   0%|          | 0/9 [00:00<?, ?it/s]"
      ]
     },
     "metadata": {},
     "output_type": "display_data"
    },
    {
     "name": "stdout",
     "output_type": "stream",
     "text": [
      "Epoch: 09 | Epoch Time: 0m 11s\n",
      "\tTrain Loss: 0.240 | Train Acc: 91.15%\n",
      "\t Val. Loss: 0.244 |  Val. Acc: 91.67%\n"
     ]
    },
    {
     "data": {
      "application/vnd.jupyter.widget-view+json": {
       "model_id": "",
       "version_major": 2,
       "version_minor": 0
      },
      "text/plain": [
       "Training:   0%|          | 0/73 [00:00<?, ?it/s]"
      ]
     },
     "metadata": {},
     "output_type": "display_data"
    },
    {
     "data": {
      "application/vnd.jupyter.widget-view+json": {
       "model_id": "",
       "version_major": 2,
       "version_minor": 0
      },
      "text/plain": [
       "Evaluating:   0%|          | 0/9 [00:00<?, ?it/s]"
      ]
     },
     "metadata": {},
     "output_type": "display_data"
    },
    {
     "name": "stdout",
     "output_type": "stream",
     "text": [
      "Epoch: 10 | Epoch Time: 0m 21s\n",
      "\tTrain Loss: 0.236 | Train Acc: 91.06%\n",
      "\t Val. Loss: 0.272 |  Val. Acc: 87.62%\n"
     ]
    }
   ],
   "source": [
    "EPOCHS = 10\n",
    "\n",
    "best_valid_loss = float('inf')\n",
    "\n",
    "for epoch in trange(EPOCHS):\n",
    "\n",
    "    start_time = time.monotonic()\n",
    "\n",
    "    train_loss, train_acc = train(model, train_iterator, optimizer, criterion, device)\n",
    "    valid_loss, valid_acc = evaluate(model, valid_iterator, criterion, device)\n",
    "\n",
    "    if valid_loss < best_valid_loss:\n",
    "        best_valid_loss = valid_loss\n",
    "        torch.save(model.state_dict(), 'tut1-model.pt')\n",
    "\n",
    "    end_time = time.monotonic()\n",
    "\n",
    "    epoch_mins, epoch_secs = epoch_time(start_time, end_time)\n",
    "\n",
    "    print(f'Epoch: {epoch+1:02} | Epoch Time: {epoch_mins}m {epoch_secs}s')\n",
    "    print(f'\\tTrain Loss: {train_loss:.3f} | Train Acc: {train_acc*100:.2f}%')\n",
    "    print(f'\\t Val. Loss: {valid_loss:.3f} |  Val. Acc: {valid_acc*100:.2f}%')"
   ]
  },
  {
   "cell_type": "code",
   "execution_count": 39,
   "id": "c7c732a4-55f5-4710-9470-2cd2bed22d12",
   "metadata": {},
   "outputs": [
    {
     "data": {
      "application/vnd.jupyter.widget-view+json": {
       "model_id": "",
       "version_major": 2,
       "version_minor": 0
      },
      "text/plain": [
       "Evaluating:   0%|          | 0/42 [00:00<?, ?it/s]"
      ]
     },
     "metadata": {},
     "output_type": "display_data"
    }
   ],
   "source": [
    "##rename the .pt file\n",
    "\n",
    "model.load_state_dict(torch.load('tut1-model.pt'))\n",
    "\n",
    "test_loss, test_acc = evaluate(model, test_iterator, criterion, device)"
   ]
  },
  {
   "cell_type": "code",
   "execution_count": 40,
   "id": "cb053a90",
   "metadata": {},
   "outputs": [
    {
     "name": "stdout",
     "output_type": "stream",
     "text": [
      "Test Loss: 0.267 | Test Acc: 91.10%\n"
     ]
    }
   ],
   "source": [
    "print(f'Test Loss: {test_loss:.3f} | Test Acc: {test_acc*100:.2f}%')"
   ]
  },
  {
   "cell_type": "code",
   "execution_count": null,
   "id": "e2c7e880",
   "metadata": {},
   "outputs": [],
   "source": [
    "# find how to plot the test loss against training loss"
   ]
  },
  {
   "cell_type": "code",
   "execution_count": null,
   "id": "674b5ee3",
   "metadata": {},
   "outputs": [],
   "source": []
  },
  {
   "cell_type": "code",
   "execution_count": null,
   "id": "f936b85b",
   "metadata": {},
   "outputs": [],
   "source": []
  },
  {
   "cell_type": "markdown",
   "id": "bfed978f",
   "metadata": {},
   "source": [
    "Examining the model"
   ]
  },
  {
   "cell_type": "code",
   "execution_count": 41,
   "id": "e0700760-5c9b-43e4-83d3-45f762f91b9b",
   "metadata": {},
   "outputs": [],
   "source": [
    "def get_predictions(model, iterator, device):\n",
    "\n",
    "    model.eval()\n",
    "\n",
    "    images = []\n",
    "    labels = []\n",
    "    probs = []\n",
    "\n",
    "    with torch.no_grad():\n",
    "\n",
    "        for (x, y) in iterator:\n",
    "\n",
    "            x = x.to(device)\n",
    "\n",
    "            y_pred, _ = model(x.float())\n",
    "\n",
    "            y_prob = F.softmax(y_pred, dim=-1)\n",
    "\n",
    "            images.append(x.cpu())\n",
    "            labels.append(y.cpu())\n",
    "            probs.append(y_prob.cpu())\n",
    "\n",
    "    images = torch.cat(images, dim=0)\n",
    "    labels = torch.cat(labels, dim=0)\n",
    "    probs = torch.cat(probs, dim=0)\n",
    "\n",
    "    return images, labels, probs"
   ]
  },
  {
   "cell_type": "code",
   "execution_count": null,
   "id": "556bf29c",
   "metadata": {},
   "outputs": [],
   "source": []
  },
  {
   "cell_type": "code",
   "execution_count": 42,
   "id": "671a937b",
   "metadata": {},
   "outputs": [],
   "source": [
    "images, labels, probs = get_predictions(model, test_iterator, device)\n",
    "\n",
    "pred_labels = torch.argmax(probs, 1)"
   ]
  },
  {
   "cell_type": "code",
   "execution_count": 49,
   "id": "a0ca7410",
   "metadata": {},
   "outputs": [
    {
     "data": {
      "text/plain": [
       "tensor([1, 0, 0,  ..., 0, 1, 1])"
      ]
     },
     "execution_count": 49,
     "metadata": {},
     "output_type": "execute_result"
    }
   ],
   "source": []
  },
  {
   "cell_type": "code",
   "execution_count": 43,
   "id": "424829e7",
   "metadata": {},
   "outputs": [],
   "source": [
    "def plot_confusion_matrix(labels, pred_labels):\n",
    "\n",
    "    fig = plt.figure(figsize=(10, 10))\n",
    "    ax = fig.add_subplot(1, 1, 1)\n",
    "    cm = metrics.confusion_matrix(labels, pred_labels)\n",
    "    cm = metrics.ConfusionMatrixDisplay(cm, display_labels=range(10))\n",
    "    cm.plot(values_format='d', cmap='Blues', ax=ax)"
   ]
  },
  {
   "cell_type": "code",
   "execution_count": 44,
   "id": "f290e1dd",
   "metadata": {},
   "outputs": [
    {
     "ename": "ValueError",
     "evalue": "The number of FixedLocator locations (2), usually from a call to set_ticks, does not match the number of ticklabels (10).",
     "output_type": "error",
     "traceback": [
      "\u001b[1;31m---------------------------------------------------------------------------\u001b[0m",
      "\u001b[1;31mValueError\u001b[0m                                Traceback (most recent call last)",
      "Input \u001b[1;32mIn [44]\u001b[0m, in \u001b[0;36m<cell line: 1>\u001b[1;34m()\u001b[0m\n\u001b[1;32m----> 1\u001b[0m \u001b[43mplot_confusion_matrix\u001b[49m\u001b[43m(\u001b[49m\u001b[43mlabels\u001b[49m\u001b[43m,\u001b[49m\u001b[43m \u001b[49m\u001b[43mpred_labels\u001b[49m\u001b[43m)\u001b[49m\n",
      "Input \u001b[1;32mIn [43]\u001b[0m, in \u001b[0;36mplot_confusion_matrix\u001b[1;34m(labels, pred_labels)\u001b[0m\n\u001b[0;32m      5\u001b[0m cm \u001b[38;5;241m=\u001b[39m metrics\u001b[38;5;241m.\u001b[39mconfusion_matrix(labels, pred_labels)\n\u001b[0;32m      6\u001b[0m cm \u001b[38;5;241m=\u001b[39m metrics\u001b[38;5;241m.\u001b[39mConfusionMatrixDisplay(cm, display_labels\u001b[38;5;241m=\u001b[39m\u001b[38;5;28mrange\u001b[39m(\u001b[38;5;241m10\u001b[39m))\n\u001b[1;32m----> 7\u001b[0m \u001b[43mcm\u001b[49m\u001b[38;5;241;43m.\u001b[39;49m\u001b[43mplot\u001b[49m\u001b[43m(\u001b[49m\u001b[43mvalues_format\u001b[49m\u001b[38;5;241;43m=\u001b[39;49m\u001b[38;5;124;43m'\u001b[39;49m\u001b[38;5;124;43md\u001b[39;49m\u001b[38;5;124;43m'\u001b[39;49m\u001b[43m,\u001b[49m\u001b[43m \u001b[49m\u001b[43mcmap\u001b[49m\u001b[38;5;241;43m=\u001b[39;49m\u001b[38;5;124;43m'\u001b[39;49m\u001b[38;5;124;43mBlues\u001b[39;49m\u001b[38;5;124;43m'\u001b[39;49m\u001b[43m,\u001b[49m\u001b[43m \u001b[49m\u001b[43max\u001b[49m\u001b[38;5;241;43m=\u001b[39;49m\u001b[43max\u001b[49m\u001b[43m)\u001b[49m\n",
      "File \u001b[1;32m~\\anaconda3\\lib\\site-packages\\sklearn\\metrics\\_plot\\confusion_matrix.py:172\u001b[0m, in \u001b[0;36mConfusionMatrixDisplay.plot\u001b[1;34m(self, include_values, cmap, xticks_rotation, values_format, ax, colorbar, im_kw)\u001b[0m\n\u001b[0;32m    170\u001b[0m \u001b[38;5;28;01mif\u001b[39;00m colorbar:\n\u001b[0;32m    171\u001b[0m     fig\u001b[38;5;241m.\u001b[39mcolorbar(\u001b[38;5;28mself\u001b[39m\u001b[38;5;241m.\u001b[39mim_, ax\u001b[38;5;241m=\u001b[39max)\n\u001b[1;32m--> 172\u001b[0m \u001b[43max\u001b[49m\u001b[38;5;241;43m.\u001b[39;49m\u001b[43mset\u001b[49m\u001b[43m(\u001b[49m\n\u001b[0;32m    173\u001b[0m \u001b[43m    \u001b[49m\u001b[43mxticks\u001b[49m\u001b[38;5;241;43m=\u001b[39;49m\u001b[43mnp\u001b[49m\u001b[38;5;241;43m.\u001b[39;49m\u001b[43marange\u001b[49m\u001b[43m(\u001b[49m\u001b[43mn_classes\u001b[49m\u001b[43m)\u001b[49m\u001b[43m,\u001b[49m\n\u001b[0;32m    174\u001b[0m \u001b[43m    \u001b[49m\u001b[43myticks\u001b[49m\u001b[38;5;241;43m=\u001b[39;49m\u001b[43mnp\u001b[49m\u001b[38;5;241;43m.\u001b[39;49m\u001b[43marange\u001b[49m\u001b[43m(\u001b[49m\u001b[43mn_classes\u001b[49m\u001b[43m)\u001b[49m\u001b[43m,\u001b[49m\n\u001b[0;32m    175\u001b[0m \u001b[43m    \u001b[49m\u001b[43mxticklabels\u001b[49m\u001b[38;5;241;43m=\u001b[39;49m\u001b[43mdisplay_labels\u001b[49m\u001b[43m,\u001b[49m\n\u001b[0;32m    176\u001b[0m \u001b[43m    \u001b[49m\u001b[43myticklabels\u001b[49m\u001b[38;5;241;43m=\u001b[39;49m\u001b[43mdisplay_labels\u001b[49m\u001b[43m,\u001b[49m\n\u001b[0;32m    177\u001b[0m \u001b[43m    \u001b[49m\u001b[43mylabel\u001b[49m\u001b[38;5;241;43m=\u001b[39;49m\u001b[38;5;124;43m\"\u001b[39;49m\u001b[38;5;124;43mTrue label\u001b[39;49m\u001b[38;5;124;43m\"\u001b[39;49m\u001b[43m,\u001b[49m\n\u001b[0;32m    178\u001b[0m \u001b[43m    \u001b[49m\u001b[43mxlabel\u001b[49m\u001b[38;5;241;43m=\u001b[39;49m\u001b[38;5;124;43m\"\u001b[39;49m\u001b[38;5;124;43mPredicted label\u001b[39;49m\u001b[38;5;124;43m\"\u001b[39;49m\u001b[43m,\u001b[49m\n\u001b[0;32m    179\u001b[0m \u001b[43m\u001b[49m\u001b[43m)\u001b[49m\n\u001b[0;32m    181\u001b[0m ax\u001b[38;5;241m.\u001b[39mset_ylim((n_classes \u001b[38;5;241m-\u001b[39m \u001b[38;5;241m0.5\u001b[39m, \u001b[38;5;241m-\u001b[39m\u001b[38;5;241m0.5\u001b[39m))\n\u001b[0;32m    182\u001b[0m plt\u001b[38;5;241m.\u001b[39msetp(ax\u001b[38;5;241m.\u001b[39mget_xticklabels(), rotation\u001b[38;5;241m=\u001b[39mxticks_rotation)\n",
      "File \u001b[1;32m~\\anaconda3\\lib\\site-packages\\matplotlib\\artist.py:116\u001b[0m, in \u001b[0;36mArtist.__init_subclass__.<locals>.<lambda>\u001b[1;34m(self, **kwargs)\u001b[0m\n\u001b[0;32m    108\u001b[0m \u001b[38;5;28;01mif\u001b[39;00m \u001b[38;5;129;01mnot\u001b[39;00m \u001b[38;5;28mhasattr\u001b[39m(\u001b[38;5;28mcls\u001b[39m\u001b[38;5;241m.\u001b[39mset, \u001b[38;5;124m'\u001b[39m\u001b[38;5;124m_autogenerated_signature\u001b[39m\u001b[38;5;124m'\u001b[39m):\n\u001b[0;32m    109\u001b[0m     \u001b[38;5;66;03m# Don't overwrite cls.set if the subclass or one of its parents\u001b[39;00m\n\u001b[0;32m    110\u001b[0m     \u001b[38;5;66;03m# has defined a set method set itself.\u001b[39;00m\n\u001b[0;32m    111\u001b[0m     \u001b[38;5;66;03m# If there was no explicit definition, cls.set is inherited from\u001b[39;00m\n\u001b[0;32m    112\u001b[0m     \u001b[38;5;66;03m# the hierarchy of auto-generated set methods, which hold the\u001b[39;00m\n\u001b[0;32m    113\u001b[0m     \u001b[38;5;66;03m# flag _autogenerated_signature.\u001b[39;00m\n\u001b[0;32m    114\u001b[0m     \u001b[38;5;28;01mreturn\u001b[39;00m\n\u001b[1;32m--> 116\u001b[0m \u001b[38;5;28mcls\u001b[39m\u001b[38;5;241m.\u001b[39mset \u001b[38;5;241m=\u001b[39m \u001b[38;5;28;01mlambda\u001b[39;00m \u001b[38;5;28mself\u001b[39m, \u001b[38;5;241m*\u001b[39m\u001b[38;5;241m*\u001b[39mkwargs: Artist\u001b[38;5;241m.\u001b[39mset(\u001b[38;5;28mself\u001b[39m, \u001b[38;5;241m*\u001b[39m\u001b[38;5;241m*\u001b[39mkwargs)\n\u001b[0;32m    117\u001b[0m \u001b[38;5;28mcls\u001b[39m\u001b[38;5;241m.\u001b[39mset\u001b[38;5;241m.\u001b[39m\u001b[38;5;18m__name__\u001b[39m \u001b[38;5;241m=\u001b[39m \u001b[38;5;124m\"\u001b[39m\u001b[38;5;124mset\u001b[39m\u001b[38;5;124m\"\u001b[39m\n\u001b[0;32m    118\u001b[0m \u001b[38;5;28mcls\u001b[39m\u001b[38;5;241m.\u001b[39mset\u001b[38;5;241m.\u001b[39m\u001b[38;5;18m__qualname__\u001b[39m \u001b[38;5;241m=\u001b[39m \u001b[38;5;124mf\u001b[39m\u001b[38;5;124m\"\u001b[39m\u001b[38;5;132;01m{\u001b[39;00m\u001b[38;5;28mcls\u001b[39m\u001b[38;5;241m.\u001b[39m\u001b[38;5;18m__qualname__\u001b[39m\u001b[38;5;132;01m}\u001b[39;00m\u001b[38;5;124m.set\u001b[39m\u001b[38;5;124m\"\u001b[39m\n",
      "File \u001b[1;32m~\\anaconda3\\lib\\site-packages\\matplotlib\\artist.py:1164\u001b[0m, in \u001b[0;36mArtist.set\u001b[1;34m(self, **kwargs)\u001b[0m\n\u001b[0;32m   1159\u001b[0m \u001b[38;5;28;01mdef\u001b[39;00m \u001b[38;5;21mset\u001b[39m(\u001b[38;5;28mself\u001b[39m, \u001b[38;5;241m*\u001b[39m\u001b[38;5;241m*\u001b[39mkwargs):\n\u001b[0;32m   1160\u001b[0m     \u001b[38;5;66;03m# docstring and signature are auto-generated via\u001b[39;00m\n\u001b[0;32m   1161\u001b[0m     \u001b[38;5;66;03m# Artist._update_set_signature_and_docstring() at the end of the\u001b[39;00m\n\u001b[0;32m   1162\u001b[0m     \u001b[38;5;66;03m# module.\u001b[39;00m\n\u001b[0;32m   1163\u001b[0m     kwargs \u001b[38;5;241m=\u001b[39m cbook\u001b[38;5;241m.\u001b[39mnormalize_kwargs(kwargs, \u001b[38;5;28mself\u001b[39m)\n\u001b[1;32m-> 1164\u001b[0m     \u001b[38;5;28;01mreturn\u001b[39;00m \u001b[38;5;28;43mself\u001b[39;49m\u001b[38;5;241;43m.\u001b[39;49m\u001b[43mupdate\u001b[49m\u001b[43m(\u001b[49m\u001b[43mkwargs\u001b[49m\u001b[43m)\u001b[49m\n",
      "File \u001b[1;32m~\\anaconda3\\lib\\site-packages\\matplotlib\\artist.py:1066\u001b[0m, in \u001b[0;36mArtist.update\u001b[1;34m(self, props)\u001b[0m\n\u001b[0;32m   1063\u001b[0m             \u001b[38;5;28;01mif\u001b[39;00m \u001b[38;5;129;01mnot\u001b[39;00m callable(func):\n\u001b[0;32m   1064\u001b[0m                 \u001b[38;5;28;01mraise\u001b[39;00m \u001b[38;5;167;01mAttributeError\u001b[39;00m(\u001b[38;5;124mf\u001b[39m\u001b[38;5;124m\"\u001b[39m\u001b[38;5;132;01m{\u001b[39;00m\u001b[38;5;28mtype\u001b[39m(\u001b[38;5;28mself\u001b[39m)\u001b[38;5;241m.\u001b[39m\u001b[38;5;18m__name__\u001b[39m\u001b[38;5;132;01m!r}\u001b[39;00m\u001b[38;5;124m object \u001b[39m\u001b[38;5;124m\"\u001b[39m\n\u001b[0;32m   1065\u001b[0m                                      \u001b[38;5;124mf\u001b[39m\u001b[38;5;124m\"\u001b[39m\u001b[38;5;124mhas no property \u001b[39m\u001b[38;5;132;01m{\u001b[39;00mk\u001b[38;5;132;01m!r}\u001b[39;00m\u001b[38;5;124m\"\u001b[39m)\n\u001b[1;32m-> 1066\u001b[0m             ret\u001b[38;5;241m.\u001b[39mappend(\u001b[43mfunc\u001b[49m\u001b[43m(\u001b[49m\u001b[43mv\u001b[49m\u001b[43m)\u001b[49m)\n\u001b[0;32m   1067\u001b[0m \u001b[38;5;28;01mif\u001b[39;00m ret:\n\u001b[0;32m   1068\u001b[0m     \u001b[38;5;28mself\u001b[39m\u001b[38;5;241m.\u001b[39mpchanged()\n",
      "File \u001b[1;32m~\\anaconda3\\lib\\site-packages\\matplotlib\\axes\\_base.py:75\u001b[0m, in \u001b[0;36m_axis_method_wrapper.__set_name__.<locals>.wrapper\u001b[1;34m(self, *args, **kwargs)\u001b[0m\n\u001b[0;32m     74\u001b[0m \u001b[38;5;28;01mdef\u001b[39;00m \u001b[38;5;21mwrapper\u001b[39m(\u001b[38;5;28mself\u001b[39m, \u001b[38;5;241m*\u001b[39margs, \u001b[38;5;241m*\u001b[39m\u001b[38;5;241m*\u001b[39mkwargs):\n\u001b[1;32m---> 75\u001b[0m     \u001b[38;5;28;01mreturn\u001b[39;00m get_method(\u001b[38;5;28mself\u001b[39m)(\u001b[38;5;241m*\u001b[39margs, \u001b[38;5;241m*\u001b[39m\u001b[38;5;241m*\u001b[39mkwargs)\n",
      "File \u001b[1;32m~\\anaconda3\\lib\\site-packages\\matplotlib\\axis.py:1798\u001b[0m, in \u001b[0;36mAxis._set_ticklabels\u001b[1;34m(self, labels, fontdict, minor, **kwargs)\u001b[0m\n\u001b[0;32m   1796\u001b[0m \u001b[38;5;28;01mif\u001b[39;00m fontdict \u001b[38;5;129;01mis\u001b[39;00m \u001b[38;5;129;01mnot\u001b[39;00m \u001b[38;5;28;01mNone\u001b[39;00m:\n\u001b[0;32m   1797\u001b[0m     kwargs\u001b[38;5;241m.\u001b[39mupdate(fontdict)\n\u001b[1;32m-> 1798\u001b[0m \u001b[38;5;28;01mreturn\u001b[39;00m \u001b[38;5;28mself\u001b[39m\u001b[38;5;241m.\u001b[39mset_ticklabels(labels, minor\u001b[38;5;241m=\u001b[39mminor, \u001b[38;5;241m*\u001b[39m\u001b[38;5;241m*\u001b[39mkwargs)\n",
      "File \u001b[1;32m~\\anaconda3\\lib\\site-packages\\matplotlib\\axis.py:1720\u001b[0m, in \u001b[0;36mAxis.set_ticklabels\u001b[1;34m(self, ticklabels, minor, **kwargs)\u001b[0m\n\u001b[0;32m   1716\u001b[0m \u001b[38;5;28;01mif\u001b[39;00m \u001b[38;5;28misinstance\u001b[39m(locator, mticker\u001b[38;5;241m.\u001b[39mFixedLocator):\n\u001b[0;32m   1717\u001b[0m     \u001b[38;5;66;03m# Passing [] as a list of ticklabels is often used as a way to\u001b[39;00m\n\u001b[0;32m   1718\u001b[0m     \u001b[38;5;66;03m# remove all tick labels, so only error for > 0 ticklabels\u001b[39;00m\n\u001b[0;32m   1719\u001b[0m     \u001b[38;5;28;01mif\u001b[39;00m \u001b[38;5;28mlen\u001b[39m(locator\u001b[38;5;241m.\u001b[39mlocs) \u001b[38;5;241m!=\u001b[39m \u001b[38;5;28mlen\u001b[39m(ticklabels) \u001b[38;5;129;01mand\u001b[39;00m \u001b[38;5;28mlen\u001b[39m(ticklabels) \u001b[38;5;241m!=\u001b[39m \u001b[38;5;241m0\u001b[39m:\n\u001b[1;32m-> 1720\u001b[0m         \u001b[38;5;28;01mraise\u001b[39;00m \u001b[38;5;167;01mValueError\u001b[39;00m(\n\u001b[0;32m   1721\u001b[0m             \u001b[38;5;124m\"\u001b[39m\u001b[38;5;124mThe number of FixedLocator locations\u001b[39m\u001b[38;5;124m\"\u001b[39m\n\u001b[0;32m   1722\u001b[0m             \u001b[38;5;124mf\u001b[39m\u001b[38;5;124m\"\u001b[39m\u001b[38;5;124m (\u001b[39m\u001b[38;5;132;01m{\u001b[39;00m\u001b[38;5;28mlen\u001b[39m(locator\u001b[38;5;241m.\u001b[39mlocs)\u001b[38;5;132;01m}\u001b[39;00m\u001b[38;5;124m), usually from a call to\u001b[39m\u001b[38;5;124m\"\u001b[39m\n\u001b[0;32m   1723\u001b[0m             \u001b[38;5;124m\"\u001b[39m\u001b[38;5;124m set_ticks, does not match\u001b[39m\u001b[38;5;124m\"\u001b[39m\n\u001b[0;32m   1724\u001b[0m             \u001b[38;5;124mf\u001b[39m\u001b[38;5;124m\"\u001b[39m\u001b[38;5;124m the number of ticklabels (\u001b[39m\u001b[38;5;132;01m{\u001b[39;00m\u001b[38;5;28mlen\u001b[39m(ticklabels)\u001b[38;5;132;01m}\u001b[39;00m\u001b[38;5;124m).\u001b[39m\u001b[38;5;124m\"\u001b[39m)\n\u001b[0;32m   1725\u001b[0m     tickd \u001b[38;5;241m=\u001b[39m {loc: lab \u001b[38;5;28;01mfor\u001b[39;00m loc, lab \u001b[38;5;129;01min\u001b[39;00m \u001b[38;5;28mzip\u001b[39m(locator\u001b[38;5;241m.\u001b[39mlocs, ticklabels)}\n\u001b[0;32m   1726\u001b[0m     func \u001b[38;5;241m=\u001b[39m functools\u001b[38;5;241m.\u001b[39mpartial(\u001b[38;5;28mself\u001b[39m\u001b[38;5;241m.\u001b[39m_format_with_dict, tickd)\n",
      "\u001b[1;31mValueError\u001b[0m: The number of FixedLocator locations (2), usually from a call to set_ticks, does not match the number of ticklabels (10)."
     ]
    },
    {
     "data": {
      "image/png": "[encoded data removed]",
      "text/plain": [
       "<Figure size 1000x1000 with 2 Axes>"
      ]
     },
     "metadata": {},
     "output_type": "display_data"
    }
   ],
   "source": [
    "plot_confusion_matrix(labels, pred_labels)"
   ]
  },
  {
   "cell_type": "code",
   "execution_count": null,
   "id": "68b20e0b",
   "metadata": {},
   "outputs": [],
   "source": [
    "# conclusion kinda did worse than before?\n",
    "# the data being already imbalanced \n",
    "# next to "
   ]
  },
  {
   "cell_type": "code",
   "execution_count": 46,
   "id": "36525fd1",
   "metadata": {},
   "outputs": [],
   "source": [
    "#reading in a small test set with real SNe to see how the model actually performs.\n",
    "# Some actual testing on SNe = test_sn.npz\n",
    "#read in the data \n",
    "def get_testing_data(load=False, datafile ='testdata_set(1).npz'):\n",
    "    \n",
    "    if not load:\n",
    "        # This grabs the training data files from the appropriate directory\n",
    "        mypath = './pipelinefile_/'\n",
    "        training_data_files = [f for f in listdir(mypath) if isfile(join(mypath, f))]\n",
    "        \n",
    "        test_t = []  \n",
    "        test_f = []\n",
    "        test_class = []\n",
    "        test_info = []\n",
    "        for f in training_data_files:\n",
    "            data = np.load(mypath+f)\n",
    "            all_time=data['all_time']\n",
    "            all_flux=data['all_flux']\n",
    "            ra = data['ra']\n",
    "            dec = data['dec']\n",
    "            injmu_percentile=data['injmu_percentile']\n",
    "            injduration=data['injduration']\n",
    "            injloc_x=-1 * data['injloc_x']\n",
    "            injloc_y=-1 * data['injloc_y']\n",
    "            injpeak=data['injpeak']\n",
    "            \n",
    "            info = ra,dec,injmu_percentile,injduration,injloc_x,injloc_y,injpeak #injduration, injpeak\n",
    "            for i, t in enumerate(all_time):\n",
    "                f = all_flux[i]\n",
    "                row = np.floor(i/9) - 4\n",
    "                col = i%9 - 4\n",
    "                if np.all(np.isnan(f)):\n",
    "                    continue\n",
    "                if np.sqrt((row - injloc_x)**2 + (col-injloc_y)**2)<=2:\n",
    "                    test_t.append(t)\n",
    "                    test_f.append(f)\n",
    "                    test_class.append(1)\n",
    "                    test_info.append(info)\n",
    "                    \n",
    "                elif np.sqrt((row - injloc_x)**2 + (col-injloc_y)**2)>5:\n",
    "                    test_t.append(t)\n",
    "                    test_f.append(f)\n",
    "                    test_class.append(0)\n",
    "                    test_info.append(info)\n",
    "        np.savez(datafile,testg_t = test_t, test_f = test_f,\n",
    "                test_class = test_class, test_info = test_info)\n",
    "        return test_t, test_f,test_class,test_info\n",
    "    else:\n",
    "        data = np.load(datafile, allow_pickle=True)\n",
    "        test_t = data['training_t']         # needs to be padded and then shuffled\n",
    "        test_f = data['training_f']         \n",
    "        test_class = data['training_class']  \n",
    "        test_info = data['training_info']   \n",
    "        return test_t, test_f,test_class,test_info\n",
    "test_t, test_f,test_class,test_info = get_testing_data(load=True)\n"
   ]
  },
  {
   "cell_type": "code",
   "execution_count": 47,
   "id": "7c680b0f",
   "metadata": {},
   "outputs": [],
   "source": [
    "#adding padding to the curves\n",
    "Xtest = np.array(test_f)\n",
    "Ytest = np.array(test_class)\n",
    "\n",
    "longest_len = 3658\n",
    "for i in np.arange(len(Xtest)): \n",
    "    mylen = len(Xtest[i]) \n",
    "    if mylen>longest_len:\n",
    "        longest_len = mylen\n",
    "new_f = np.zeros((len(Xtest),longest_len)) \n",
    "for i in np.arange(len(Xtest)): \n",
    "    nl = len(Xtest[i]) \n",
    "    before_N=int(longest_len/2-(nl/2))\n",
    "    new_f[i,before_N:nl+before_N] = Xtest[i]  \n",
    "    "
   ]
  },
  {
   "cell_type": "code",
   "execution_count": 50,
   "id": "4b67cf3d",
   "metadata": {},
   "outputs": [],
   "source": [
    "# normalizing the test set \n",
    "new_f = scaler.fit_transform(new_f.T).T"
   ]
  },
  {
   "cell_type": "code",
   "execution_count": 140,
   "id": "234daf59",
   "metadata": {},
   "outputs": [],
   "source": []
  },
  {
   "cell_type": "code",
   "execution_count": 48,
   "id": "7f6b475f",
   "metadata": {},
   "outputs": [
    {
     "data": {
      "text/plain": [
       "3658"
      ]
     },
     "execution_count": 48,
     "metadata": {},
     "output_type": "execute_result"
    }
   ],
   "source": []
  },
  {
   "cell_type": "code",
   "execution_count": 51,
   "id": "62b3e395",
   "metadata": {},
   "outputs": [],
   "source": [
    "# \n",
    "def get_test_predictions(model, iterator, device):\n",
    "    model.eval()\n",
    "    images = []\n",
    "    labels = []\n",
    "    probs = []\n",
    "    with torch.no_grad():\n",
    "        for x in iterator: #This may not work, I don't know what iterator expects\n",
    "            x = torch.from_numpy(x)\n",
    "            \n",
    "            y_pred, _ = model(x)\n",
    "            y_prob = F.softmax(y_pred, dim=-1)\n",
    "            images.append(x.cpu())\n",
    "            probs.append(y_prob.cpu())\n",
    "    images = torch.cat(images, dim=0)\n",
    "    probs = torch.cat(probs, dim=0)\n",
    "    return images, probs"
   ]
  },
  {
   "cell_type": "code",
   "execution_count": null,
   "id": "67d94a12",
   "metadata": {},
   "outputs": [],
   "source": []
  },
  {
   "cell_type": "code",
   "execution_count": 52,
   "id": "d1ec97be",
   "metadata": {},
   "outputs": [],
   "source": [
    "torch.set_default_tensor_type(torch.FloatTensor)"
   ]
  },
  {
   "cell_type": "code",
   "execution_count": 53,
   "id": "3773844a",
   "metadata": {},
   "outputs": [],
   "source": [
    "x2 = torch.from_numpy(new_f)"
   ]
  },
  {
   "cell_type": "code",
   "execution_count": 54,
   "id": "3e03b774",
   "metadata": {},
   "outputs": [],
   "source": [
    "y_pred, _ = model(x2.float())\n",
    "\n"
   ]
  },
  {
   "cell_type": "code",
   "execution_count": 55,
   "id": "1488d079",
   "metadata": {},
   "outputs": [],
   "source": [
    "y_prob = F.softmax(y_pred, dim=-1)"
   ]
  },
  {
   "cell_type": "code",
   "execution_count": 56,
   "id": "eb341a57",
   "metadata": {},
   "outputs": [],
   "source": [
    "y_prob = y_prob.detach().numpy()\n"
   ]
  },
  {
   "cell_type": "code",
   "execution_count": 57,
   "id": "6a6559f7",
   "metadata": {},
   "outputs": [],
   "source": [
    "y_pred = y_pred.detach().numpy()"
   ]
  },
  {
   "cell_type": "code",
   "execution_count": 58,
   "id": "9aa5e26a",
   "metadata": {},
   "outputs": [
    {
     "data": {
      "text/plain": [
       "(array([[ 0.,  0.,  0.,  0.,  2., 16., 22., 33., 61., 33.],\n",
       "        [33., 58., 29., 22., 20.,  3.,  0.,  2.,  0.,  0.]]),\n",
       " array([-2.3548076 , -1.9048398 , -1.4548719 , -1.0049039 , -0.55493605,\n",
       "        -0.10496819,  0.3449997 ,  0.7949676 ,  1.2449355 ,  1.6949034 ,\n",
       "         2.1448712 ], dtype=float32),\n",
       " <a list of 2 BarContainer objects>)"
      ]
     },
     "execution_count": 58,
     "metadata": {},
     "output_type": "execute_result"
    },
    {
     "data": {
      "image/png": "[encoded data removed]",
      "text/plain": [
       "<Figure size 640x480 with 1 Axes>"
      ]
     },
     "metadata": {},
     "output_type": "display_data"
    }
   ],
   "source": [
    "plt.hist(y_pred)"
   ]
  },
  {
   "cell_type": "code",
   "execution_count": 59,
   "id": "a1bb3c9f",
   "metadata": {},
   "outputs": [
    {
     "data": {
      "text/plain": [
       "(array([112.,  16.,  14.,   2.,  10.,   9.,   2.,   0.,   0.,   2.]),\n",
       " array([0.01099044, 0.09021447, 0.1694385 , 0.24866253, 0.32788655,\n",
       "        0.4071106 , 0.48633462, 0.5655587 , 0.6447827 , 0.7240067 ,\n",
       "        0.80323076], dtype=float32),\n",
       " <BarContainer object of 10 artists>)"
      ]
     },
     "execution_count": 59,
     "metadata": {},
     "output_type": "execute_result"
    },
    {
     "data": {
      "image/png": "[encoded data removed]",
      "text/plain": [
       "<Figure size 640x480 with 1 Axes>"
      ]
     },
     "metadata": {},
     "output_type": "display_data"
    }
   ],
   "source": [
    "plt.hist(y_prob[:,1])"
   ]
  },
  {
   "cell_type": "code",
   "execution_count": 70,
   "id": "696576ee",
   "metadata": {},
   "outputs": [
    {
     "data": {
      "text/plain": [
       "(array([  9,  10,  11,  12,  16,  38,  88,  89, 113, 114, 115, 116, 117,\n",
       "        118], dtype=int64),)"
      ]
     },
     "execution_count": 70,
     "metadata": {},
     "output_type": "execute_result"
    }
   ],
   "source": [
    "np.where(y_prob[:,1]>0.4)"
   ]
  },
  {
   "cell_type": "code",
   "execution_count": 71,
   "id": "b4615eb4",
   "metadata": {},
   "outputs": [
    {
     "data": {
      "text/plain": [
       "[<matplotlib.lines.Line2D at 0x16646d91820>]"
      ]
     },
     "execution_count": 71,
     "metadata": {},
     "output_type": "execute_result"
    },
    {
     "data": {
      "image/png": "[encoded data removed]",
      "text/plain": [
       "<Figure size 640x480 with 1 Axes>"
      ]
     },
     "metadata": {},
     "output_type": "display_data"
    }
   ],
   "source": [
    "plt.plot(new_f[9])"
   ]
  },
  {
   "cell_type": "code",
   "execution_count": null,
   "id": "1004543f",
   "metadata": {},
   "outputs": [],
   "source": []
  },
  {
   "cell_type": "code",
   "execution_count": null,
   "id": "668a9755",
   "metadata": {},
   "outputs": [],
   "source": []
  }
 ],
 "metadata": {
  "kernelspec": {
   "display_name": "Python 3 (ipykernel)",
   "language": "python",
   "name": "python3"
  },
  "language_info": {
   "codemirror_mode": {
    "name": "ipython",
    "version": 3
   },
   "file_extension": ".py",
   "mimetype": "text/x-python",
   "name": "python",
   "nbconvert_exporter": "python",
   "pygments_lexer": "ipython3",
   "version": "3.9.7"
  }
 },
 "nbformat": 4,
 "nbformat_minor": 5
}
