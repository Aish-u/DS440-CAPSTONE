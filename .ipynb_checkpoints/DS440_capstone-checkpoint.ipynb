{
 "cells": [
  {
   "cell_type": "code",
   "execution_count": 1,
   "id": "70d8b6c7",
   "metadata": {},
   "outputs": [],
   "source": [
    "#!pip install torch\n",
    "#packages \n",
    "#Load packages :pytorch, sklearn etc.,\n",
    "import numpy as np\n",
    "import pandas as pd\n",
    "import random\n",
    "import os\n",
    "\n",
    "import matplotlib.pyplot as plt\n",
    "from sklearn.metrics import plot_confusion_matrix\n",
    "\n",
    "\n",
    "import torch\n",
    "import torch.nn as nn\n",
    "import torch.nn.functional as F\n",
    "import torch.optim as optim\n",
    "import torch.utils.data as data\n",
    "\n",
    "import torchvision.transforms as transforms\n",
    "import torchvision.datasets as datasets\n",
    "#from torchvision.transforms import Normalize\n",
    "from sklearn.preprocessing import MinMaxScaler\n",
    "\n",
    "from sklearn import metrics\n",
    "from sklearn import decomposition\n",
    "from sklearn import manifold\n",
    "from tqdm.notebook import trange, tqdm\n",
    "from sklearn.preprocessing import MinMaxScaler\n",
    "from sklearn.model_selection import train_test_split\n",
    "\n",
    "import copy\n",
    "import time\n"
   ]
  },
  {
   "cell_type": "raw",
   "id": "6f462a80",
   "metadata": {},
   "source": []
  },
  {
   "cell_type": "code",
   "execution_count": 2,
   "id": "0dccbf69",
   "metadata": {},
   "outputs": [],
   "source": [
    "#reading in the .npz file to train the model \n",
    "def get_training_data(load=False, datafile ='training_sn_56.npz'):\n",
    "    \n",
    "    if not load:\n",
    "        # This grabs the training data files from the appropriate directory\n",
    "        mypath = './DS440-CAPSTONE/'\n",
    "        training_data_files = [f for f in listdir(mypath) if isfile(join(mypath, f))]\n",
    "        \n",
    "        training_t = []  \n",
    "        training_f = []\n",
    "        training_class = []\n",
    "        training_info = []\n",
    "        for f in training_data_files:\n",
    "            data = np.load(mypath+f)\n",
    "            all_time=data['all_time']\n",
    "            all_flux=data['all_flux']\n",
    "            ra = data['ra']\n",
    "            dec = data['dec']\n",
    "            injmu_percentile=data['injmu_percentile']\n",
    "            injduration=data['injduration']\n",
    "            injloc_x=-1 * data['injloc_x']\n",
    "            injloc_y=-1 * data['injloc_y']\n",
    "            injpeak=data['injpeak']\n",
    "            \n",
    "            info = ra,dec,injmu_percentile,injduration,injloc_x,injloc_y,injpeak #injduration, injpeak\n",
    "            for i, t in enumerate(all_time):\n",
    "                f = all_flux[i]\n",
    "                row = np.floor(i/9) - 4\n",
    "                col = i%9 - 4\n",
    "                if np.all(np.isnan(f)):\n",
    "                    continue\n",
    "                if np.sqrt((row - injloc_x)**2 + (col-injloc_y)**2)<=2:\n",
    "                    training_t.append(t)\n",
    "                    training_f.append(f)\n",
    "                    training_class.append(1)\n",
    "                    training_info.append(info)\n",
    "                    \n",
    "                elif np.sqrt((row - injloc_x)**2 + (col-injloc_y)**2)>5:\n",
    "                    training_t.append(t)\n",
    "                    training_f.append(f)\n",
    "                    training_class.append(0)\n",
    "                    training_info.append(info)\n",
    "        np.savez(datafile,training_t = training_t, training_f = training_f,\n",
    "                training_class = training_class, training_info = training_info)\n",
    "        return training_t, training_f,training_class,training_info\n",
    "    else:\n",
    "        data = np.load(datafile, allow_pickle=True)\n",
    "        training_t = data['training_t']         # needs to be padded and then shuffled\n",
    "        training_f = data['training_f']         \n",
    "        training_class = data['training_class']  \n",
    "        training_info = data['training_info']   \n",
    "        return training_t, training_f,training_class,training_info\n",
    "training_t, training_f,training_class,training_info = get_training_data(load=True)"
   ]
  },
  {
   "cell_type": "code",
   "execution_count": 7,
   "id": "b271b408",
   "metadata": {},
   "outputs": [
    {
     "data": {
      "text/plain": [
       "11766"
      ]
     },
     "execution_count": 7,
     "metadata": {},
     "output_type": "execute_result"
    }
   ],
   "source": [
    "max(map(len, training_t))"
   ]
  },
  {
   "cell_type": "code",
   "execution_count": 8,
   "id": "b83232f5",
   "metadata": {},
   "outputs": [],
   "source": [
    "#padding the arrays to match the max size\n",
    "longest_len = 11766\n",
    "for i in np.arange(len(training_t)):\n",
    "    mylen = len(training_t[i])\n",
    "    if mylen>longest_len:\n",
    "        longest_len = mylen\n",
    "new_training_t = np.zeros((len(training_t),longest_len))\n",
    "new_training_f = np.zeros((len(training_t),longest_len))\n",
    "for i in np.arange(len(training_t)):\n",
    "    nl = len(training_t[i])\n",
    "    before_N=int(longest_len/2-(nl/2))\n",
    "    new_training_t[i,before_N:nl+before_N] = training_t[i]   # Data to be used\n",
    "    new_training_f[i,before_N:nl+before_N] = training_f[i]   # Data to be used"
   ]
  },
  {
   "cell_type": "code",
   "execution_count": 9,
   "id": "bc7fe636-9e81-41b2-ace5-fc231f5d141a",
   "metadata": {},
   "outputs": [],
   "source": [
    "float_nt_f = new_training_f.astype(np.float64)"
   ]
  },
  {
   "cell_type": "code",
   "execution_count": 10,
   "id": "07fb2923",
   "metadata": {},
   "outputs": [
    {
     "data": {
      "text/plain": [
       "numpy.ndarray"
      ]
     },
     "execution_count": 10,
     "metadata": {},
     "output_type": "execute_result"
    }
   ],
   "source": [
    "type(float_nt_f)"
   ]
  },
  {
   "cell_type": "code",
   "execution_count": 12,
   "id": "b0caf7ac-3204-4804-9fe9-61729a57d0d0",
   "metadata": {},
   "outputs": [
    {
     "data": {
      "text/plain": [
       "[<matplotlib.lines.Line2D at 0x28eff7008b0>]"
      ]
     },
     "execution_count": 12,
     "metadata": {},
     "output_type": "execute_result"
    },
    {
     "data": {
      "image/png": "[encoded data removed]",
      "text/plain": [
       "<Figure size 640x480 with 1 Axes>"
      ]
     },
     "metadata": {},
     "output_type": "display_data"
    }
   ],
   "source": [
    "plt.plot(training_t[1],training_f[1])"
   ]
  },
  {
   "cell_type": "code",
   "execution_count": 13,
   "id": "8e26bd12-274c-4e0b-8dab-b3f35f2c0db9",
   "metadata": {
    "scrolled": true
   },
   "outputs": [
    {
     "data": {
      "text/plain": [
       "(3949, 11766)"
      ]
     },
     "execution_count": 13,
     "metadata": {},
     "output_type": "execute_result"
    }
   ],
   "source": [
    "new_training_f.shape"
   ]
  },
  {
   "cell_type": "code",
   "execution_count": 14,
   "id": "acc47e51",
   "metadata": {
    "scrolled": true
   },
   "outputs": [
    {
     "data": {
      "text/plain": [
       "(3949,)"
      ]
     },
     "execution_count": 14,
     "metadata": {},
     "output_type": "execute_result"
    }
   ],
   "source": [
    "training_class.shape"
   ]
  },
  {
   "cell_type": "code",
   "execution_count": 18,
   "id": "c6a1fc51",
   "metadata": {},
   "outputs": [
    {
     "data": {
      "text/plain": [
       "799"
      ]
     },
     "execution_count": 18,
     "metadata": {},
     "output_type": "execute_result"
    }
   ],
   "source": []
  },
  {
   "cell_type": "code",
   "execution_count": 19,
   "id": "e210a181",
   "metadata": {},
   "outputs": [],
   "source": [
    "# introducing balanced dataset \n",
    "\n",
    "#new set with 50/50 SNe\n",
    "count_arr = np.bincount(training_class)\n",
    "count1 = count_arr[1]\n",
    "count0 = count_arr[0]\n",
    "\n",
    "#get index of 0's, 1's-> np.where \n",
    "#np.random.choice?(replace= False ) returns a random sample of zeroes. \n",
    "\n",
    "zero=np.where(training_class==0)[0]  # the [0] just means the first \"element\" in this case array is selected. np.where makes a matrix of size nx2 for some reason \n",
    "one = np.where(training_class==1)[0] \n",
    "#get the indexes\n",
    "train_c0 = np.random.choice(zero, size=799, replace=False, p=None)\n",
    "train_f0 = new_training_f[train_c0]\n",
    "train_c00= training_class[train_c0]\n",
    "\n",
    "train_f1 = new_training_f[one]\n",
    "train_c11 = training_class[one]\n",
    "\n",
    "train_c_all = np.append(train_c00,train_c11)\n",
    "train_f_all = np.vstack((train_f0,train_f1))"
   ]
  },
  {
   "cell_type": "code",
   "execution_count": 20,
   "id": "5d273cc9",
   "metadata": {},
   "outputs": [
    {
     "name": "stdout",
     "output_type": "stream",
     "text": [
      "799\n"
     ]
    }
   ],
   "source": [
    "one = np.where(training_class==1)[0] \n",
    "print(len(one))"
   ]
  },
  {
   "cell_type": "code",
   "execution_count": 21,
   "id": "3c63b15c",
   "metadata": {},
   "outputs": [],
   "source": [
    "scaler = MinMaxScaler()\n",
    "\n",
    "train_f_all = scaler.fit_transform(train_f_all.T).T"
   ]
  },
  {
   "cell_type": "code",
   "execution_count": 22,
   "id": "01ed611e-31f2-435b-9209-405fbbe39d4d",
   "metadata": {},
   "outputs": [],
   "source": [
    "class CustomDataset(data.Dataset):\n",
    "    def __init__(self, train_c_all, train_f_all, transform=None, target_transform=None):   #train_c_all,train_f_all -                                                                                    \n",
    "        self.labels = train_c_all                                                       #from balanced set \n",
    "        self.data = train_f_all\n",
    "        self.transform = transform\n",
    "        self.target_transform = target_transform\n",
    "        \n",
    "        \n",
    "\n",
    "    def __len__(self):\n",
    "        return len(self.labels)\n",
    "\n",
    "    def __getitem__(self, idx):\n",
    "        #img_path = os.path.join(self.data, self.labels.iloc[idx, 0])\n",
    "        curve = self.data[idx]\n",
    "        label = self.labels[idx]\n",
    "        if self.transform:\n",
    "            curve = self.transform(curve)\n",
    "        if self.target_transform:\n",
    "            label = self.target_transform(label)\n",
    "        return curve, label"
   ]
  },
  {
   "cell_type": "code",
   "execution_count": 23,
   "id": "c7a159b7-2c9e-4754-a145-4ef551eda926",
   "metadata": {},
   "outputs": [],
   "source": [
    "train = CustomDataset(train_c_all, train_f_all, transform=None, target_transform=None)"
   ]
  },
  {
   "cell_type": "code",
   "execution_count": 24,
   "id": "89bc90d3-72e6-4c33-86ab-bc989fe478c0",
   "metadata": {},
   "outputs": [],
   "source": [
    "VALID_RATIO = 0.9\n",
    "TEST_RATIO = 0.66\n",
    "\n",
    "n_train_examples = int(len(train) * TEST_RATIO)\n",
    "n_test_examples = len(train) - n_train_examples\n",
    "n_train_examples = int(n_train_examples * VALID_RATIO)\n",
    "n_valid_examples = len(train) - n_test_examples - n_train_examples"
   ]
  },
  {
   "cell_type": "code",
   "execution_count": 25,
   "id": "5cb3ab38-280c-4757-a983-1a4758422f26",
   "metadata": {},
   "outputs": [],
   "source": [
    "train_data, test_data, valid_data = data.random_split(train, [n_train_examples, n_test_examples, n_valid_examples])"
   ]
  },
  {
   "cell_type": "code",
   "execution_count": 26,
   "id": "98fc496a-f821-432d-8469-797d287ec922",
   "metadata": {},
   "outputs": [],
   "source": [
    "BATCH_SIZE = 64\n",
    "\n",
    "train_iterator = data.DataLoader(train_data, shuffle=True, batch_size=BATCH_SIZE)\n",
    "\n",
    "valid_iterator = data.DataLoader(valid_data, batch_size=BATCH_SIZE)\n",
    "\n",
    "test_iterator = data.DataLoader(test_data, batch_size=BATCH_SIZE)"
   ]
  },
  {
   "cell_type": "code",
   "execution_count": null,
   "id": "182dbe58-5824-4f99-8a25-828230d63888",
   "metadata": {
    "scrolled": true
   },
   "outputs": [],
   "source": []
  },
  {
   "cell_type": "code",
   "execution_count": 27,
   "id": "544a9108-de41-44fe-813c-d6d2e5be951b",
   "metadata": {},
   "outputs": [],
   "source": [
    "class MLP(nn.Module):\n",
    "    def __init__(self, input_dim, output_dim):\n",
    "        super().__init__()\n",
    "\n",
    "        self.input_fc = nn.Linear(input_dim, 5000)\n",
    "        self.hidden_fc1 = nn.Linear(5000, 1800)\n",
    "        self.hidden_fc2 = nn.Linear(1800, 600)\n",
    "        self.hidden_fc3 = nn.Linear(600, 200)\n",
    "        self.output_fc = nn.Linear(200, output_dim)\n",
    "\n",
    "    def forward(self, x):\n",
    "\n",
    "        # x = [batch size, height, width]\n",
    "\n",
    "        batch_size = x.shape[0]\n",
    "\n",
    "        x = x.view(batch_size, -1)\n",
    "\n",
    "        # x = [batch size, height * width]\n",
    "\n",
    "        h_1 = F.relu(self.input_fc(x))\n",
    "\n",
    "        # h_1 = [batch size, 1400]\n",
    "\n",
    "        h_2 = F.relu(self.hidden_fc1(h_1))\n",
    "\n",
    "        # h_2 = [batch size, 530]\n",
    "        \n",
    "        h_3 = F.relu(self.hidden_fc2(h_2))\n",
    "\n",
    "        # h_3 = [batch size, 200]\n",
    "        \n",
    "        h_4 = F.relu(self.hidden_fc3(h_3))\n",
    "\n",
    "        # h_4 = [batch size, 80]\n",
    "\n",
    "        y_pred = self.output_fc(h_4)\n",
    "\n",
    "        # y_pred = [batch size, output dim]\n",
    "\n",
    "        return y_pred, h_4"
   ]
  },
  {
   "cell_type": "markdown",
   "id": "61e045d9-aa16-4623-bf36-96ca5942e29d",
   "metadata": {},
   "source": [
    "define our model by creating an instance of it and setting the correct input and output dimensions."
   ]
  },
  {
   "cell_type": "code",
   "execution_count": 28,
   "id": "12d6a268-497b-4362-950d-26cd4b931048",
   "metadata": {},
   "outputs": [],
   "source": [
    "INPUT_DIM = 11766   #originally 3658 - for old training set\n",
    "OUTPUT_DIM = 2\n",
    "\n",
    "model = MLP(INPUT_DIM, OUTPUT_DIM)"
   ]
  },
  {
   "cell_type": "markdown",
   "id": "81952984-46f0-4b22-bbec-b95c432e6bb0",
   "metadata": {},
   "source": [
    "calculate the number of trainable parameters"
   ]
  },
  {
   "cell_type": "code",
   "execution_count": 29,
   "id": "b0bfc3f5-e7ee-4d23-b2f1-834125f25f73",
   "metadata": {},
   "outputs": [],
   "source": [
    "def count_parameters(model):\n",
    "    return sum(p.numel() for p in model.parameters() if p.requires_grad)"
   ]
  },
  {
   "cell_type": "markdown",
   "id": "5bca8750-ab78-4b4a-8039-11c6a7f4c6b1",
   "metadata": {},
   "source": [
    "The first layer has 3658 neurons connected to 1400 neurons, so 3658*1400 weighted connections plus 1400 bias terms.\n",
    "\n",
    "The second layer has 1400 neurons connected to 530 neurons, 1400*530 weighted connections plus 530 bias terms.\n",
    "\n",
    "The third layer has 530 neurons connected to 200 neurons, 530*200 weighted connections plus 200 bias terms.\n",
    "\n",
    "The fourth layer has 200 neurons connected to 80 neurons, 200*80 weighted connections plus 80 bias terms.\n",
    "\n",
    "The fifth layer has 80 neurons connected to 2 neurons, 80*2 weighted connections plus 2 bias terms.\n",
    "\n",
    "$$3658 \\cdot 1400 + 1400 + 1400 \\cdot 530 + 530 + 530 \\cdot 200 + 200 + 200 \\cdot 80 + 80 + 80 \\cdot 2 + 2 = 5,987,572 $$"
   ]
  },
  {
   "cell_type": "code",
   "execution_count": 30,
   "id": "63d259c6-a378-4aa2-a8eb-0716784043cc",
   "metadata": {},
   "outputs": [
    {
     "name": "stdout",
     "output_type": "stream",
     "text": [
      "The model has 69,038,002 trainable parameters\n"
     ]
    }
   ],
   "source": [
    "print(f'The model has {count_parameters(model):,} trainable parameters')"
   ]
  },
  {
   "cell_type": "code",
   "execution_count": 31,
   "id": "1cd5c6d0-dd38-4bd5-af6f-a497eee62197",
   "metadata": {},
   "outputs": [],
   "source": [
    "optimizer = optim.Adam(model.parameters())  # lr = 0.1, momentum =0.9"
   ]
  },
  {
   "cell_type": "code",
   "execution_count": 32,
   "id": "16f4f196-0463-4fd2-a9fb-cb6d01fd6124",
   "metadata": {},
   "outputs": [],
   "source": [
    "criterion = nn.CrossEntropyLoss()"
   ]
  },
  {
   "cell_type": "code",
   "execution_count": 33,
   "id": "c0ba512e-83a8-40e6-9e1d-6a279fda9d36",
   "metadata": {},
   "outputs": [],
   "source": [
    "device = torch.device('cuda' if torch.cuda.is_available() else 'cpu')"
   ]
  },
  {
   "cell_type": "code",
   "execution_count": 34,
   "id": "fc8a6f3d-8501-42bb-964c-909b2757101f",
   "metadata": {},
   "outputs": [],
   "source": [
    "model = model.to(device)\n",
    "criterion = criterion.to(device)"
   ]
  },
  {
   "cell_type": "code",
   "execution_count": 35,
   "id": "14b0b449-acaa-4cbd-8aa4-19851bb4ca92",
   "metadata": {},
   "outputs": [],
   "source": [
    "def calculate_accuracy(y_pred, y):\n",
    "    top_pred = y_pred.argmax(1, keepdim=True)\n",
    "    correct = top_pred.eq(y.view_as(top_pred)).sum()\n",
    "    acc = correct.float() / y.shape[0]\n",
    "    return acc"
   ]
  },
  {
   "cell_type": "code",
   "execution_count": 36,
   "id": "f3a611fe-69a7-4383-b54a-56ba5b942aa7",
   "metadata": {},
   "outputs": [],
   "source": [
    "def train(model, iterator, optimizer, criterion, device):\n",
    "\n",
    "    epoch_loss = 0\n",
    "    epoch_acc = 0\n",
    "\n",
    "    model.train()\n",
    "\n",
    "    for (x, y) in tqdm(iterator, desc=\"Training\", leave=False):\n",
    "\n",
    "        x = x.to(device)\n",
    "        y = y.to(device)\n",
    "\n",
    "        optimizer.zero_grad()\n",
    "\n",
    "        y_pred, _ = model(x.float())\n",
    "\n",
    "        loss = criterion(y_pred, y)\n",
    "\n",
    "        acc = calculate_accuracy(y_pred, y)\n",
    "\n",
    "        loss.backward()\n",
    "\n",
    "        optimizer.step()\n",
    "\n",
    "        epoch_loss += loss.item()\n",
    "        epoch_acc += acc.item()\n",
    "\n",
    "    return epoch_loss / len(iterator), epoch_acc / len(iterator)"
   ]
  },
  {
   "cell_type": "code",
   "execution_count": 37,
   "id": "f4551b11-d59f-43d6-93a3-927ce116ec09",
   "metadata": {},
   "outputs": [],
   "source": [
    "def evaluate(model, iterator, criterion, device):\n",
    "\n",
    "    epoch_loss = 0\n",
    "    epoch_acc = 0\n",
    "\n",
    "    model.eval()\n",
    "\n",
    "    with torch.no_grad():\n",
    "\n",
    "        for (x, y) in tqdm(iterator, desc=\"Evaluating\", leave=False):\n",
    "\n",
    "            x = x.to(device)\n",
    "            y = y.to(device)\n",
    "\n",
    "            y_pred, _ = model(x.float())\n",
    "\n",
    "            loss = criterion(y_pred, y)\n",
    "\n",
    "            acc = calculate_accuracy(y_pred, y)\n",
    "\n",
    "            epoch_loss += loss.item()\n",
    "            epoch_acc += acc.item()\n",
    "\n",
    "    return epoch_loss / len(iterator), epoch_acc / len(iterator)"
   ]
  },
  {
   "cell_type": "code",
   "execution_count": 38,
   "id": "afb090a9-8c92-47c7-96c8-76a7ec70bd21",
   "metadata": {},
   "outputs": [],
   "source": [
    "def epoch_time(start_time, end_time):\n",
    "    elapsed_time = end_time - start_time\n",
    "    elapsed_mins = int(elapsed_time / 60)\n",
    "    elapsed_secs = int(elapsed_time - (elapsed_mins * 60))\n",
    "    return elapsed_mins, elapsed_secs"
   ]
  },
  {
   "cell_type": "code",
   "execution_count": 39,
   "id": "d37cd409-4a3a-466c-b646-5a07af3a02fd",
   "metadata": {},
   "outputs": [
    {
     "data": {
      "application/vnd.jupyter.widget-view+json": {
       "model_id": "4e56c6d6a66848f9be1a8242c8bbd3d5",
       "version_major": 2,
       "version_minor": 0
      },
      "text/plain": [
       "  0%|          | 0/10 [00:00<?, ?it/s]"
      ]
     },
     "metadata": {},
     "output_type": "display_data"
    },
    {
     "data": {
      "application/vnd.jupyter.widget-view+json": {
       "model_id": "",
       "version_major": 2,
       "version_minor": 0
      },
      "text/plain": [
       "Training:   0%|          | 0/15 [00:00<?, ?it/s]"
      ]
     },
     "metadata": {},
     "output_type": "display_data"
    },
    {
     "data": {
      "application/vnd.jupyter.widget-view+json": {
       "model_id": "",
       "version_major": 2,
       "version_minor": 0
      },
      "text/plain": [
       "Evaluating:   0%|          | 0/2 [00:00<?, ?it/s]"
      ]
     },
     "metadata": {},
     "output_type": "display_data"
    },
    {
     "name": "stdout",
     "output_type": "stream",
     "text": [
      "Epoch: 01 | Epoch Time: 0m 9s\n",
      "\tTrain Loss: 1.046 | Train Acc: 51.51%\n",
      "\t Val. Loss: 0.697 |  Val. Acc: 41.33%\n"
     ]
    },
    {
     "data": {
      "application/vnd.jupyter.widget-view+json": {
       "model_id": "",
       "version_major": 2,
       "version_minor": 0
      },
      "text/plain": [
       "Training:   0%|          | 0/15 [00:00<?, ?it/s]"
      ]
     },
     "metadata": {},
     "output_type": "display_data"
    },
    {
     "data": {
      "application/vnd.jupyter.widget-view+json": {
       "model_id": "",
       "version_major": 2,
       "version_minor": 0
      },
      "text/plain": [
       "Evaluating:   0%|          | 0/2 [00:00<?, ?it/s]"
      ]
     },
     "metadata": {},
     "output_type": "display_data"
    },
    {
     "name": "stdout",
     "output_type": "stream",
     "text": [
      "Epoch: 02 | Epoch Time: 0m 8s\n",
      "\tTrain Loss: 0.558 | Train Acc: 72.23%\n",
      "\t Val. Loss: 0.242 |  Val. Acc: 91.33%\n"
     ]
    },
    {
     "data": {
      "application/vnd.jupyter.widget-view+json": {
       "model_id": "",
       "version_major": 2,
       "version_minor": 0
      },
      "text/plain": [
       "Training:   0%|          | 0/15 [00:00<?, ?it/s]"
      ]
     },
     "metadata": {},
     "output_type": "display_data"
    },
    {
     "data": {
      "application/vnd.jupyter.widget-view+json": {
       "model_id": "",
       "version_major": 2,
       "version_minor": 0
      },
      "text/plain": [
       "Evaluating:   0%|          | 0/2 [00:00<?, ?it/s]"
      ]
     },
     "metadata": {},
     "output_type": "display_data"
    },
    {
     "name": "stdout",
     "output_type": "stream",
     "text": [
      "Epoch: 03 | Epoch Time: 0m 8s\n",
      "\tTrain Loss: 0.278 | Train Acc: 90.53%\n",
      "\t Val. Loss: 0.194 |  Val. Acc: 93.30%\n"
     ]
    },
    {
     "data": {
      "application/vnd.jupyter.widget-view+json": {
       "model_id": "",
       "version_major": 2,
       "version_minor": 0
      },
      "text/plain": [
       "Training:   0%|          | 0/15 [00:00<?, ?it/s]"
      ]
     },
     "metadata": {},
     "output_type": "display_data"
    },
    {
     "data": {
      "application/vnd.jupyter.widget-view+json": {
       "model_id": "",
       "version_major": 2,
       "version_minor": 0
      },
      "text/plain": [
       "Evaluating:   0%|          | 0/2 [00:00<?, ?it/s]"
      ]
     },
     "metadata": {},
     "output_type": "display_data"
    },
    {
     "name": "stdout",
     "output_type": "stream",
     "text": [
      "Epoch: 04 | Epoch Time: 0m 7s\n",
      "\tTrain Loss: 0.265 | Train Acc: 90.82%\n",
      "\t Val. Loss: 0.225 |  Val. Acc: 92.11%\n"
     ]
    },
    {
     "data": {
      "application/vnd.jupyter.widget-view+json": {
       "model_id": "",
       "version_major": 2,
       "version_minor": 0
      },
      "text/plain": [
       "Training:   0%|          | 0/15 [00:00<?, ?it/s]"
      ]
     },
     "metadata": {},
     "output_type": "display_data"
    },
    {
     "data": {
      "application/vnd.jupyter.widget-view+json": {
       "model_id": "",
       "version_major": 2,
       "version_minor": 0
      },
      "text/plain": [
       "Evaluating:   0%|          | 0/2 [00:00<?, ?it/s]"
      ]
     },
     "metadata": {},
     "output_type": "display_data"
    },
    {
     "name": "stdout",
     "output_type": "stream",
     "text": [
      "Epoch: 05 | Epoch Time: 0m 8s\n",
      "\tTrain Loss: 0.249 | Train Acc: 91.75%\n",
      "\t Val. Loss: 0.175 |  Val. Acc: 92.11%\n"
     ]
    },
    {
     "data": {
      "application/vnd.jupyter.widget-view+json": {
       "model_id": "",
       "version_major": 2,
       "version_minor": 0
      },
      "text/plain": [
       "Training:   0%|          | 0/15 [00:00<?, ?it/s]"
      ]
     },
     "metadata": {},
     "output_type": "display_data"
    },
    {
     "data": {
      "application/vnd.jupyter.widget-view+json": {
       "model_id": "",
       "version_major": 2,
       "version_minor": 0
      },
      "text/plain": [
       "Evaluating:   0%|          | 0/2 [00:00<?, ?it/s]"
      ]
     },
     "metadata": {},
     "output_type": "display_data"
    },
    {
     "name": "stdout",
     "output_type": "stream",
     "text": [
      "Epoch: 06 | Epoch Time: 0m 8s\n",
      "\tTrain Loss: 0.220 | Train Acc: 92.48%\n",
      "\t Val. Loss: 0.141 |  Val. Acc: 94.08%\n"
     ]
    },
    {
     "data": {
      "application/vnd.jupyter.widget-view+json": {
       "model_id": "",
       "version_major": 2,
       "version_minor": 0
      },
      "text/plain": [
       "Training:   0%|          | 0/15 [00:00<?, ?it/s]"
      ]
     },
     "metadata": {},
     "output_type": "display_data"
    },
    {
     "data": {
      "application/vnd.jupyter.widget-view+json": {
       "model_id": "",
       "version_major": 2,
       "version_minor": 0
      },
      "text/plain": [
       "Evaluating:   0%|          | 0/2 [00:00<?, ?it/s]"
      ]
     },
     "metadata": {},
     "output_type": "display_data"
    },
    {
     "name": "stdout",
     "output_type": "stream",
     "text": [
      "Epoch: 07 | Epoch Time: 0m 7s\n",
      "\tTrain Loss: 0.214 | Train Acc: 92.76%\n",
      "\t Val. Loss: 0.172 |  Val. Acc: 94.49%\n"
     ]
    },
    {
     "data": {
      "application/vnd.jupyter.widget-view+json": {
       "model_id": "",
       "version_major": 2,
       "version_minor": 0
      },
      "text/plain": [
       "Training:   0%|          | 0/15 [00:00<?, ?it/s]"
      ]
     },
     "metadata": {},
     "output_type": "display_data"
    },
    {
     "data": {
      "application/vnd.jupyter.widget-view+json": {
       "model_id": "",
       "version_major": 2,
       "version_minor": 0
      },
      "text/plain": [
       "Evaluating:   0%|          | 0/2 [00:00<?, ?it/s]"
      ]
     },
     "metadata": {},
     "output_type": "display_data"
    },
    {
     "name": "stdout",
     "output_type": "stream",
     "text": [
      "Epoch: 08 | Epoch Time: 0m 8s\n",
      "\tTrain Loss: 0.180 | Train Acc: 93.62%\n",
      "\t Val. Loss: 0.102 |  Val. Acc: 96.06%\n"
     ]
    },
    {
     "data": {
      "application/vnd.jupyter.widget-view+json": {
       "model_id": "",
       "version_major": 2,
       "version_minor": 0
      },
      "text/plain": [
       "Training:   0%|          | 0/15 [00:00<?, ?it/s]"
      ]
     },
     "metadata": {},
     "output_type": "display_data"
    },
    {
     "data": {
      "application/vnd.jupyter.widget-view+json": {
       "model_id": "",
       "version_major": 2,
       "version_minor": 0
      },
      "text/plain": [
       "Evaluating:   0%|          | 0/2 [00:00<?, ?it/s]"
      ]
     },
     "metadata": {},
     "output_type": "display_data"
    },
    {
     "name": "stdout",
     "output_type": "stream",
     "text": [
      "Epoch: 09 | Epoch Time: 0m 7s\n",
      "\tTrain Loss: 0.202 | Train Acc: 93.65%\n",
      "\t Val. Loss: 0.362 |  Val. Acc: 78.31%\n"
     ]
    },
    {
     "data": {
      "application/vnd.jupyter.widget-view+json": {
       "model_id": "",
       "version_major": 2,
       "version_minor": 0
      },
      "text/plain": [
       "Training:   0%|          | 0/15 [00:00<?, ?it/s]"
      ]
     },
     "metadata": {},
     "output_type": "display_data"
    },
    {
     "data": {
      "application/vnd.jupyter.widget-view+json": {
       "model_id": "",
       "version_major": 2,
       "version_minor": 0
      },
      "text/plain": [
       "Evaluating:   0%|          | 0/2 [00:00<?, ?it/s]"
      ]
     },
     "metadata": {},
     "output_type": "display_data"
    },
    {
     "name": "stdout",
     "output_type": "stream",
     "text": [
      "Epoch: 10 | Epoch Time: 0m 7s\n",
      "\tTrain Loss: 0.213 | Train Acc: 92.01%\n",
      "\t Val. Loss: 0.131 |  Val. Acc: 95.68%\n"
     ]
    }
   ],
   "source": [
    "EPOCHS = 10\n",
    "\n",
    "best_valid_loss = float('inf')\n",
    "\n",
    "for epoch in trange(EPOCHS):\n",
    "\n",
    "    start_time = time.monotonic()\n",
    "\n",
    "    train_loss, train_acc = train(model, train_iterator, optimizer, criterion, device)\n",
    "    valid_loss, valid_acc = evaluate(model, valid_iterator, criterion, device)\n",
    "\n",
    "    if valid_loss < best_valid_loss:\n",
    "        best_valid_loss = valid_loss\n",
    "        torch.save(model.state_dict(), 'tut1-model.pt')\n",
    "\n",
    "    end_time = time.monotonic()\n",
    "\n",
    "    epoch_mins, epoch_secs = epoch_time(start_time, end_time)\n",
    "\n",
    "    print(f'Epoch: {epoch+1:02} | Epoch Time: {epoch_mins}m {epoch_secs}s')\n",
    "    print(f'\\tTrain Loss: {train_loss:.3f} | Train Acc: {train_acc*100:.2f}%')\n",
    "    print(f'\\t Val. Loss: {valid_loss:.3f} |  Val. Acc: {valid_acc*100:.2f}%')"
   ]
  },
  {
   "cell_type": "code",
   "execution_count": 40,
   "id": "c7c732a4-55f5-4710-9470-2cd2bed22d12",
   "metadata": {},
   "outputs": [
    {
     "data": {
      "application/vnd.jupyter.widget-view+json": {
       "model_id": "",
       "version_major": 2,
       "version_minor": 0
      },
      "text/plain": [
       "Evaluating:   0%|          | 0/9 [00:00<?, ?it/s]"
      ]
     },
     "metadata": {},
     "output_type": "display_data"
    }
   ],
   "source": [
    "##rename the .pt file\n",
    "\n",
    "model.load_state_dict(torch.load('tut1-model.pt'))\n",
    "\n",
    "test_loss, test_acc = evaluate(model, test_iterator, criterion, device)"
   ]
  },
  {
   "cell_type": "code",
   "execution_count": 41,
   "id": "cb053a90",
   "metadata": {},
   "outputs": [
    {
     "name": "stdout",
     "output_type": "stream",
     "text": [
      "Test Loss: 0.172 | Test Acc: 94.97%\n"
     ]
    }
   ],
   "source": [
    "print(f'Test Loss: {test_loss:.3f} | Test Acc: {test_acc*100:.2f}%')"
   ]
  },
  {
   "cell_type": "code",
   "execution_count": 42,
   "id": "e2c7e880",
   "metadata": {},
   "outputs": [],
   "source": [
    "def get_predictions(model, iterator, device):\n",
    "\n",
    "    model.eval()\n",
    "\n",
    "    images = []\n",
    "    labels = []\n",
    "    probs = []\n",
    "\n",
    "    with torch.no_grad():\n",
    "\n",
    "        for (x, y) in iterator:\n",
    "\n",
    "            x = x.to(device)\n",
    "\n",
    "            y_pred, _ = model(x.float())\n",
    "\n",
    "            y_prob = F.softmax(y_pred, dim=-1)\n",
    "\n",
    "            images.append(x.cpu())\n",
    "            labels.append(y.cpu())\n",
    "            probs.append(y_prob.cpu())\n",
    "\n",
    "    images = torch.cat(images, dim=0)\n",
    "    labels = torch.cat(labels, dim=0)\n",
    "    probs = torch.cat(probs, dim=0)\n",
    "\n",
    "    return images, labels, probs"
   ]
  },
  {
   "cell_type": "code",
   "execution_count": null,
   "id": "674b5ee3",
   "metadata": {},
   "outputs": [],
   "source": []
  },
  {
   "cell_type": "code",
   "execution_count": null,
   "id": "f936b85b",
   "metadata": {},
   "outputs": [],
   "source": []
  },
  {
   "cell_type": "markdown",
   "id": "bfed978f",
   "metadata": {},
   "source": [
    "Examining the model"
   ]
  },
  {
   "cell_type": "code",
   "execution_count": null,
   "id": "e0700760-5c9b-43e4-83d3-45f762f91b9b",
   "metadata": {},
   "outputs": [],
   "source": []
  },
  {
   "cell_type": "code",
   "execution_count": null,
   "id": "556bf29c",
   "metadata": {},
   "outputs": [],
   "source": [
    "# find how to plot the test loss against training loss"
   ]
  },
  {
   "cell_type": "code",
   "execution_count": 43,
   "id": "671a937b",
   "metadata": {},
   "outputs": [],
   "source": [
    "images, labels, probs = get_predictions(model, test_iterator, device)\n",
    "\n",
    "pred_labels = torch.argmax(probs, 1)"
   ]
  },
  {
   "cell_type": "code",
   "execution_count": null,
   "id": "a0ca7410",
   "metadata": {},
   "outputs": [],
   "source": []
  },
  {
   "cell_type": "code",
   "execution_count": 44,
   "id": "424829e7",
   "metadata": {},
   "outputs": [],
   "source": [
    "def plot_confusion_matrix(labels, pred_labels):\n",
    "\n",
    "    fig = plt.figure(figsize=(10, 10))\n",
    "    ax = fig.add_subplot(1, 1, 1)\n",
    "    cm = metrics.confusion_matrix(labels, pred_labels)\n",
    "    cm = metrics.ConfusionMatrixDisplay(cm, display_labels=range(10))\n",
    "    cm.plot(values_format='d', cmap='Blues', ax=ax)"
   ]
  },
  {
   "cell_type": "code",
   "execution_count": 45,
   "id": "f290e1dd",
   "metadata": {},
   "outputs": [
    {
     "ename": "ValueError",
     "evalue": "The number of FixedLocator locations (2), usually from a call to set_ticks, does not match the number of ticklabels (10).",
     "output_type": "error",
     "traceback": [
      "\u001b[1;31m---------------------------------------------------------------------------\u001b[0m",
      "\u001b[1;31mValueError\u001b[0m                                Traceback (most recent call last)",
      "Input \u001b[1;32mIn [45]\u001b[0m, in \u001b[0;36m<cell line: 1>\u001b[1;34m()\u001b[0m\n\u001b[1;32m----> 1\u001b[0m \u001b[43mplot_confusion_matrix\u001b[49m\u001b[43m(\u001b[49m\u001b[43mlabels\u001b[49m\u001b[43m,\u001b[49m\u001b[43m \u001b[49m\u001b[43mpred_labels\u001b[49m\u001b[43m)\u001b[49m\n",
      "Input \u001b[1;32mIn [44]\u001b[0m, in \u001b[0;36mplot_confusion_matrix\u001b[1;34m(labels, pred_labels)\u001b[0m\n\u001b[0;32m      5\u001b[0m cm \u001b[38;5;241m=\u001b[39m metrics\u001b[38;5;241m.\u001b[39mconfusion_matrix(labels, pred_labels)\n\u001b[0;32m      6\u001b[0m cm \u001b[38;5;241m=\u001b[39m metrics\u001b[38;5;241m.\u001b[39mConfusionMatrixDisplay(cm, display_labels\u001b[38;5;241m=\u001b[39m\u001b[38;5;28mrange\u001b[39m(\u001b[38;5;241m10\u001b[39m))\n\u001b[1;32m----> 7\u001b[0m \u001b[43mcm\u001b[49m\u001b[38;5;241;43m.\u001b[39;49m\u001b[43mplot\u001b[49m\u001b[43m(\u001b[49m\u001b[43mvalues_format\u001b[49m\u001b[38;5;241;43m=\u001b[39;49m\u001b[38;5;124;43m'\u001b[39;49m\u001b[38;5;124;43md\u001b[39;49m\u001b[38;5;124;43m'\u001b[39;49m\u001b[43m,\u001b[49m\u001b[43m \u001b[49m\u001b[43mcmap\u001b[49m\u001b[38;5;241;43m=\u001b[39;49m\u001b[38;5;124;43m'\u001b[39;49m\u001b[38;5;124;43mBlues\u001b[39;49m\u001b[38;5;124;43m'\u001b[39;49m\u001b[43m,\u001b[49m\u001b[43m \u001b[49m\u001b[43max\u001b[49m\u001b[38;5;241;43m=\u001b[39;49m\u001b[43max\u001b[49m\u001b[43m)\u001b[49m\n",
      "File \u001b[1;32m~\\anaconda3\\lib\\site-packages\\sklearn\\metrics\\_plot\\confusion_matrix.py:172\u001b[0m, in \u001b[0;36mConfusionMatrixDisplay.plot\u001b[1;34m(self, include_values, cmap, xticks_rotation, values_format, ax, colorbar, im_kw)\u001b[0m\n\u001b[0;32m    170\u001b[0m \u001b[38;5;28;01mif\u001b[39;00m colorbar:\n\u001b[0;32m    171\u001b[0m     fig\u001b[38;5;241m.\u001b[39mcolorbar(\u001b[38;5;28mself\u001b[39m\u001b[38;5;241m.\u001b[39mim_, ax\u001b[38;5;241m=\u001b[39max)\n\u001b[1;32m--> 172\u001b[0m \u001b[43max\u001b[49m\u001b[38;5;241;43m.\u001b[39;49m\u001b[43mset\u001b[49m\u001b[43m(\u001b[49m\n\u001b[0;32m    173\u001b[0m \u001b[43m    \u001b[49m\u001b[43mxticks\u001b[49m\u001b[38;5;241;43m=\u001b[39;49m\u001b[43mnp\u001b[49m\u001b[38;5;241;43m.\u001b[39;49m\u001b[43marange\u001b[49m\u001b[43m(\u001b[49m\u001b[43mn_classes\u001b[49m\u001b[43m)\u001b[49m\u001b[43m,\u001b[49m\n\u001b[0;32m    174\u001b[0m \u001b[43m    \u001b[49m\u001b[43myticks\u001b[49m\u001b[38;5;241;43m=\u001b[39;49m\u001b[43mnp\u001b[49m\u001b[38;5;241;43m.\u001b[39;49m\u001b[43marange\u001b[49m\u001b[43m(\u001b[49m\u001b[43mn_classes\u001b[49m\u001b[43m)\u001b[49m\u001b[43m,\u001b[49m\n\u001b[0;32m    175\u001b[0m \u001b[43m    \u001b[49m\u001b[43mxticklabels\u001b[49m\u001b[38;5;241;43m=\u001b[39;49m\u001b[43mdisplay_labels\u001b[49m\u001b[43m,\u001b[49m\n\u001b[0;32m    176\u001b[0m \u001b[43m    \u001b[49m\u001b[43myticklabels\u001b[49m\u001b[38;5;241;43m=\u001b[39;49m\u001b[43mdisplay_labels\u001b[49m\u001b[43m,\u001b[49m\n\u001b[0;32m    177\u001b[0m \u001b[43m    \u001b[49m\u001b[43mylabel\u001b[49m\u001b[38;5;241;43m=\u001b[39;49m\u001b[38;5;124;43m\"\u001b[39;49m\u001b[38;5;124;43mTrue label\u001b[39;49m\u001b[38;5;124;43m\"\u001b[39;49m\u001b[43m,\u001b[49m\n\u001b[0;32m    178\u001b[0m \u001b[43m    \u001b[49m\u001b[43mxlabel\u001b[49m\u001b[38;5;241;43m=\u001b[39;49m\u001b[38;5;124;43m\"\u001b[39;49m\u001b[38;5;124;43mPredicted label\u001b[39;49m\u001b[38;5;124;43m\"\u001b[39;49m\u001b[43m,\u001b[49m\n\u001b[0;32m    179\u001b[0m \u001b[43m\u001b[49m\u001b[43m)\u001b[49m\n\u001b[0;32m    181\u001b[0m ax\u001b[38;5;241m.\u001b[39mset_ylim((n_classes \u001b[38;5;241m-\u001b[39m \u001b[38;5;241m0.5\u001b[39m, \u001b[38;5;241m-\u001b[39m\u001b[38;5;241m0.5\u001b[39m))\n\u001b[0;32m    182\u001b[0m plt\u001b[38;5;241m.\u001b[39msetp(ax\u001b[38;5;241m.\u001b[39mget_xticklabels(), rotation\u001b[38;5;241m=\u001b[39mxticks_rotation)\n",
      "File \u001b[1;32m~\\anaconda3\\lib\\site-packages\\matplotlib\\artist.py:116\u001b[0m, in \u001b[0;36mArtist.__init_subclass__.<locals>.<lambda>\u001b[1;34m(self, **kwargs)\u001b[0m\n\u001b[0;32m    108\u001b[0m \u001b[38;5;28;01mif\u001b[39;00m \u001b[38;5;129;01mnot\u001b[39;00m \u001b[38;5;28mhasattr\u001b[39m(\u001b[38;5;28mcls\u001b[39m\u001b[38;5;241m.\u001b[39mset, \u001b[38;5;124m'\u001b[39m\u001b[38;5;124m_autogenerated_signature\u001b[39m\u001b[38;5;124m'\u001b[39m):\n\u001b[0;32m    109\u001b[0m     \u001b[38;5;66;03m# Don't overwrite cls.set if the subclass or one of its parents\u001b[39;00m\n\u001b[0;32m    110\u001b[0m     \u001b[38;5;66;03m# has defined a set method set itself.\u001b[39;00m\n\u001b[0;32m    111\u001b[0m     \u001b[38;5;66;03m# If there was no explicit definition, cls.set is inherited from\u001b[39;00m\n\u001b[0;32m    112\u001b[0m     \u001b[38;5;66;03m# the hierarchy of auto-generated set methods, which hold the\u001b[39;00m\n\u001b[0;32m    113\u001b[0m     \u001b[38;5;66;03m# flag _autogenerated_signature.\u001b[39;00m\n\u001b[0;32m    114\u001b[0m     \u001b[38;5;28;01mreturn\u001b[39;00m\n\u001b[1;32m--> 116\u001b[0m \u001b[38;5;28mcls\u001b[39m\u001b[38;5;241m.\u001b[39mset \u001b[38;5;241m=\u001b[39m \u001b[38;5;28;01mlambda\u001b[39;00m \u001b[38;5;28mself\u001b[39m, \u001b[38;5;241m*\u001b[39m\u001b[38;5;241m*\u001b[39mkwargs: Artist\u001b[38;5;241m.\u001b[39mset(\u001b[38;5;28mself\u001b[39m, \u001b[38;5;241m*\u001b[39m\u001b[38;5;241m*\u001b[39mkwargs)\n\u001b[0;32m    117\u001b[0m \u001b[38;5;28mcls\u001b[39m\u001b[38;5;241m.\u001b[39mset\u001b[38;5;241m.\u001b[39m\u001b[38;5;18m__name__\u001b[39m \u001b[38;5;241m=\u001b[39m \u001b[38;5;124m\"\u001b[39m\u001b[38;5;124mset\u001b[39m\u001b[38;5;124m\"\u001b[39m\n\u001b[0;32m    118\u001b[0m \u001b[38;5;28mcls\u001b[39m\u001b[38;5;241m.\u001b[39mset\u001b[38;5;241m.\u001b[39m\u001b[38;5;18m__qualname__\u001b[39m \u001b[38;5;241m=\u001b[39m \u001b[38;5;124mf\u001b[39m\u001b[38;5;124m\"\u001b[39m\u001b[38;5;132;01m{\u001b[39;00m\u001b[38;5;28mcls\u001b[39m\u001b[38;5;241m.\u001b[39m\u001b[38;5;18m__qualname__\u001b[39m\u001b[38;5;132;01m}\u001b[39;00m\u001b[38;5;124m.set\u001b[39m\u001b[38;5;124m\"\u001b[39m\n",
      "File \u001b[1;32m~\\anaconda3\\lib\\site-packages\\matplotlib\\artist.py:1164\u001b[0m, in \u001b[0;36mArtist.set\u001b[1;34m(self, **kwargs)\u001b[0m\n\u001b[0;32m   1159\u001b[0m \u001b[38;5;28;01mdef\u001b[39;00m \u001b[38;5;21mset\u001b[39m(\u001b[38;5;28mself\u001b[39m, \u001b[38;5;241m*\u001b[39m\u001b[38;5;241m*\u001b[39mkwargs):\n\u001b[0;32m   1160\u001b[0m     \u001b[38;5;66;03m# docstring and signature are auto-generated via\u001b[39;00m\n\u001b[0;32m   1161\u001b[0m     \u001b[38;5;66;03m# Artist._update_set_signature_and_docstring() at the end of the\u001b[39;00m\n\u001b[0;32m   1162\u001b[0m     \u001b[38;5;66;03m# module.\u001b[39;00m\n\u001b[0;32m   1163\u001b[0m     kwargs \u001b[38;5;241m=\u001b[39m cbook\u001b[38;5;241m.\u001b[39mnormalize_kwargs(kwargs, \u001b[38;5;28mself\u001b[39m)\n\u001b[1;32m-> 1164\u001b[0m     \u001b[38;5;28;01mreturn\u001b[39;00m \u001b[38;5;28;43mself\u001b[39;49m\u001b[38;5;241;43m.\u001b[39;49m\u001b[43mupdate\u001b[49m\u001b[43m(\u001b[49m\u001b[43mkwargs\u001b[49m\u001b[43m)\u001b[49m\n",
      "File \u001b[1;32m~\\anaconda3\\lib\\site-packages\\matplotlib\\artist.py:1066\u001b[0m, in \u001b[0;36mArtist.update\u001b[1;34m(self, props)\u001b[0m\n\u001b[0;32m   1063\u001b[0m             \u001b[38;5;28;01mif\u001b[39;00m \u001b[38;5;129;01mnot\u001b[39;00m callable(func):\n\u001b[0;32m   1064\u001b[0m                 \u001b[38;5;28;01mraise\u001b[39;00m \u001b[38;5;167;01mAttributeError\u001b[39;00m(\u001b[38;5;124mf\u001b[39m\u001b[38;5;124m\"\u001b[39m\u001b[38;5;132;01m{\u001b[39;00m\u001b[38;5;28mtype\u001b[39m(\u001b[38;5;28mself\u001b[39m)\u001b[38;5;241m.\u001b[39m\u001b[38;5;18m__name__\u001b[39m\u001b[38;5;132;01m!r}\u001b[39;00m\u001b[38;5;124m object \u001b[39m\u001b[38;5;124m\"\u001b[39m\n\u001b[0;32m   1065\u001b[0m                                      \u001b[38;5;124mf\u001b[39m\u001b[38;5;124m\"\u001b[39m\u001b[38;5;124mhas no property \u001b[39m\u001b[38;5;132;01m{\u001b[39;00mk\u001b[38;5;132;01m!r}\u001b[39;00m\u001b[38;5;124m\"\u001b[39m)\n\u001b[1;32m-> 1066\u001b[0m             ret\u001b[38;5;241m.\u001b[39mappend(\u001b[43mfunc\u001b[49m\u001b[43m(\u001b[49m\u001b[43mv\u001b[49m\u001b[43m)\u001b[49m)\n\u001b[0;32m   1067\u001b[0m \u001b[38;5;28;01mif\u001b[39;00m ret:\n\u001b[0;32m   1068\u001b[0m     \u001b[38;5;28mself\u001b[39m\u001b[38;5;241m.\u001b[39mpchanged()\n",
      "File \u001b[1;32m~\\anaconda3\\lib\\site-packages\\matplotlib\\axes\\_base.py:75\u001b[0m, in \u001b[0;36m_axis_method_wrapper.__set_name__.<locals>.wrapper\u001b[1;34m(self, *args, **kwargs)\u001b[0m\n\u001b[0;32m     74\u001b[0m \u001b[38;5;28;01mdef\u001b[39;00m \u001b[38;5;21mwrapper\u001b[39m(\u001b[38;5;28mself\u001b[39m, \u001b[38;5;241m*\u001b[39margs, \u001b[38;5;241m*\u001b[39m\u001b[38;5;241m*\u001b[39mkwargs):\n\u001b[1;32m---> 75\u001b[0m     \u001b[38;5;28;01mreturn\u001b[39;00m get_method(\u001b[38;5;28mself\u001b[39m)(\u001b[38;5;241m*\u001b[39margs, \u001b[38;5;241m*\u001b[39m\u001b[38;5;241m*\u001b[39mkwargs)\n",
      "File \u001b[1;32m~\\anaconda3\\lib\\site-packages\\matplotlib\\axis.py:1798\u001b[0m, in \u001b[0;36mAxis._set_ticklabels\u001b[1;34m(self, labels, fontdict, minor, **kwargs)\u001b[0m\n\u001b[0;32m   1796\u001b[0m \u001b[38;5;28;01mif\u001b[39;00m fontdict \u001b[38;5;129;01mis\u001b[39;00m \u001b[38;5;129;01mnot\u001b[39;00m \u001b[38;5;28;01mNone\u001b[39;00m:\n\u001b[0;32m   1797\u001b[0m     kwargs\u001b[38;5;241m.\u001b[39mupdate(fontdict)\n\u001b[1;32m-> 1798\u001b[0m \u001b[38;5;28;01mreturn\u001b[39;00m \u001b[38;5;28mself\u001b[39m\u001b[38;5;241m.\u001b[39mset_ticklabels(labels, minor\u001b[38;5;241m=\u001b[39mminor, \u001b[38;5;241m*\u001b[39m\u001b[38;5;241m*\u001b[39mkwargs)\n",
      "File \u001b[1;32m~\\anaconda3\\lib\\site-packages\\matplotlib\\axis.py:1720\u001b[0m, in \u001b[0;36mAxis.set_ticklabels\u001b[1;34m(self, ticklabels, minor, **kwargs)\u001b[0m\n\u001b[0;32m   1716\u001b[0m \u001b[38;5;28;01mif\u001b[39;00m \u001b[38;5;28misinstance\u001b[39m(locator, mticker\u001b[38;5;241m.\u001b[39mFixedLocator):\n\u001b[0;32m   1717\u001b[0m     \u001b[38;5;66;03m# Passing [] as a list of ticklabels is often used as a way to\u001b[39;00m\n\u001b[0;32m   1718\u001b[0m     \u001b[38;5;66;03m# remove all tick labels, so only error for > 0 ticklabels\u001b[39;00m\n\u001b[0;32m   1719\u001b[0m     \u001b[38;5;28;01mif\u001b[39;00m \u001b[38;5;28mlen\u001b[39m(locator\u001b[38;5;241m.\u001b[39mlocs) \u001b[38;5;241m!=\u001b[39m \u001b[38;5;28mlen\u001b[39m(ticklabels) \u001b[38;5;129;01mand\u001b[39;00m \u001b[38;5;28mlen\u001b[39m(ticklabels) \u001b[38;5;241m!=\u001b[39m \u001b[38;5;241m0\u001b[39m:\n\u001b[1;32m-> 1720\u001b[0m         \u001b[38;5;28;01mraise\u001b[39;00m \u001b[38;5;167;01mValueError\u001b[39;00m(\n\u001b[0;32m   1721\u001b[0m             \u001b[38;5;124m\"\u001b[39m\u001b[38;5;124mThe number of FixedLocator locations\u001b[39m\u001b[38;5;124m\"\u001b[39m\n\u001b[0;32m   1722\u001b[0m             \u001b[38;5;124mf\u001b[39m\u001b[38;5;124m\"\u001b[39m\u001b[38;5;124m (\u001b[39m\u001b[38;5;132;01m{\u001b[39;00m\u001b[38;5;28mlen\u001b[39m(locator\u001b[38;5;241m.\u001b[39mlocs)\u001b[38;5;132;01m}\u001b[39;00m\u001b[38;5;124m), usually from a call to\u001b[39m\u001b[38;5;124m\"\u001b[39m\n\u001b[0;32m   1723\u001b[0m             \u001b[38;5;124m\"\u001b[39m\u001b[38;5;124m set_ticks, does not match\u001b[39m\u001b[38;5;124m\"\u001b[39m\n\u001b[0;32m   1724\u001b[0m             \u001b[38;5;124mf\u001b[39m\u001b[38;5;124m\"\u001b[39m\u001b[38;5;124m the number of ticklabels (\u001b[39m\u001b[38;5;132;01m{\u001b[39;00m\u001b[38;5;28mlen\u001b[39m(ticklabels)\u001b[38;5;132;01m}\u001b[39;00m\u001b[38;5;124m).\u001b[39m\u001b[38;5;124m\"\u001b[39m)\n\u001b[0;32m   1725\u001b[0m     tickd \u001b[38;5;241m=\u001b[39m {loc: lab \u001b[38;5;28;01mfor\u001b[39;00m loc, lab \u001b[38;5;129;01min\u001b[39;00m \u001b[38;5;28mzip\u001b[39m(locator\u001b[38;5;241m.\u001b[39mlocs, ticklabels)}\n\u001b[0;32m   1726\u001b[0m     func \u001b[38;5;241m=\u001b[39m functools\u001b[38;5;241m.\u001b[39mpartial(\u001b[38;5;28mself\u001b[39m\u001b[38;5;241m.\u001b[39m_format_with_dict, tickd)\n",
      "\u001b[1;31mValueError\u001b[0m: The number of FixedLocator locations (2), usually from a call to set_ticks, does not match the number of ticklabels (10)."
     ]
    },
    {
     "data": {
      "image/png": "[encoded data removed]",
      "text/plain": [
       "<Figure size 1000x1000 with 2 Axes>"
      ]
     },
     "metadata": {},
     "output_type": "display_data"
    }
   ],
   "source": [
    "plot_confusion_matrix(labels, pred_labels)"
   ]
  },
  {
   "cell_type": "code",
   "execution_count": null,
   "id": "68b20e0b",
   "metadata": {},
   "outputs": [],
   "source": [
    "# conclusion kinda did worse than before?\n",
    "# the data being already imbalanced \n",
    "# next to "
   ]
  },
  {
   "cell_type": "code",
   "execution_count": 46,
   "id": "36525fd1",
   "metadata": {},
   "outputs": [],
   "source": [
    "#reading in a small test set with real SNe to see how the model actually performs.\n",
    "# Some actual testing on SNe = test_sn.npz\n",
    "#read in the data \n",
    "def get_testing_data(load=False, datafile ='test_s56_batch1.npz'):\n",
    "    \n",
    "    if not load:\n",
    "        # This grabs the training data files from the appropriate directory\n",
    "        mypath = './pipelinefile_/'\n",
    "        training_data_files = [f for f in listdir(mypath) if isfile(join(mypath, f))]\n",
    "        \n",
    "        test_t = []  \n",
    "        test_f = []\n",
    "        test_class = []\n",
    "        test_info = []\n",
    "        for f in training_data_files:\n",
    "            data = np.load(mypath+f)\n",
    "            all_time=data['all_time']\n",
    "            all_flux=data['all_flux']\n",
    "            ra = data['ra']\n",
    "            dec = data['dec']\n",
    "            injmu_percentile=data['injmu_percentile']\n",
    "            injduration=data['injduration']\n",
    "            injloc_x=-1 * data['injloc_x']\n",
    "            injloc_y=-1 * data['injloc_y']\n",
    "            injpeak=data['injpeak']\n",
    "            \n",
    "            info = ra,dec,injmu_percentile,injduration,injloc_x,injloc_y,injpeak #injduration, injpeak\n",
    "            for i, t in enumerate(all_time):\n",
    "                f = all_flux[i]\n",
    "                row = np.floor(i/9) - 4\n",
    "                col = i%9 - 4\n",
    "                if np.all(np.isnan(f)):\n",
    "                    continue\n",
    "                if np.sqrt((row - injloc_x)**2 + (col-injloc_y)**2)<=2:\n",
    "                    test_t.append(t)\n",
    "                    test_f.append(f)\n",
    "                    test_class.append(1)\n",
    "                    test_info.append(info)\n",
    "                    \n",
    "                elif np.sqrt((row - injloc_x)**2 + (col-injloc_y)**2)>5:\n",
    "                    test_t.append(t)\n",
    "                    test_f.append(f)\n",
    "                    test_class.append(0)\n",
    "                    test_info.append(info)\n",
    "        np.savez(datafile,testg_t = test_t, test_f = test_f,\n",
    "                test_class = test_class, test_info = test_info)\n",
    "        return test_t, test_f,test_class,test_info\n",
    "    else:\n",
    "        data = np.load(datafile, allow_pickle=True)\n",
    "        test_t = data['training_t']         # needs to be padded and then shuffled\n",
    "        test_f = data['training_f']         \n",
    "        test_class = data['training_class']  \n",
    "        test_info = data['training_info']   \n",
    "        return test_t, test_f,test_class,test_info\n",
    "test_t, test_f,test_class,test_info = get_testing_data(load=True)\n"
   ]
  },
  {
   "cell_type": "code",
   "execution_count": 74,
   "id": "7eaccd1e",
   "metadata": {},
   "outputs": [
    {
     "data": {
      "text/plain": [
       "11766"
      ]
     },
     "execution_count": 74,
     "metadata": {},
     "output_type": "execute_result"
    }
   ],
   "source": [
    "max(map(len, test_f))"
   ]
  },
  {
   "cell_type": "code",
   "execution_count": 72,
   "id": "68ca6fba",
   "metadata": {},
   "outputs": [
    {
     "data": {
      "text/plain": [
       "[<matplotlib.lines.Line2D at 0x1aa9af232b0>]"
      ]
     },
     "execution_count": 72,
     "metadata": {},
     "output_type": "execute_result"
    },
    {
     "data": {
      "image/png": "[encoded data removed]",
      "text/plain": [
       "<Figure size 640x480 with 1 Axes>"
      ]
     },
     "metadata": {},
     "output_type": "display_data"
    }
   ],
   "source": [
    "plt.plot(test_f[9])"
   ]
  },
  {
   "cell_type": "code",
   "execution_count": 77,
   "id": "1f2ada87",
   "metadata": {},
   "outputs": [
    {
     "data": {
      "text/plain": [
       "[<matplotlib.lines.Line2D at 0x1aa9aead520>]"
      ]
     },
     "execution_count": 77,
     "metadata": {},
     "output_type": "execute_result"
    },
    {
     "data": {
      "image/png": "[encoded data removed]",
      "text/plain": [
       "<Figure size 640x480 with 1 Axes>"
      ]
     },
     "metadata": {},
     "output_type": "display_data"
    }
   ],
   "source": [
    "plt.plot(test_t[9],test_f[9])"
   ]
  },
  {
   "cell_type": "code",
   "execution_count": 47,
   "id": "7c680b0f",
   "metadata": {},
   "outputs": [],
   "source": [
    "#adding padding to the curves\n",
    "Xtest = np.array(test_f)\n",
    "Ytest = np.array(test_class)\n",
    "\n",
    "longest_len = 11766\n",
    "for i in np.arange(len(Xtest)): \n",
    "    mylen = len(Xtest[i]) \n",
    "    if mylen>longest_len:\n",
    "        longest_len = mylen\n",
    "new_f = np.zeros((len(Xtest),longest_len)) \n",
    "for i in np.arange(len(Xtest)): \n",
    "    nl = len(Xtest[i]) \n",
    "    before_N=int(longest_len/2-(nl/2))\n",
    "    new_f[i,before_N:nl+before_N] = Xtest[i]  \n",
    "    "
   ]
  },
  {
   "cell_type": "code",
   "execution_count": 48,
   "id": "4b67cf3d",
   "metadata": {},
   "outputs": [],
   "source": [
    "# normalizing the test set \n",
    "new_f = scaler.fit_transform(new_f.T).T"
   ]
  },
  {
   "cell_type": "code",
   "execution_count": null,
   "id": "234daf59",
   "metadata": {},
   "outputs": [],
   "source": []
  },
  {
   "cell_type": "code",
   "execution_count": null,
   "id": "7f6b475f",
   "metadata": {},
   "outputs": [],
   "source": []
  },
  {
   "cell_type": "code",
   "execution_count": 38,
   "id": "62b3e395",
   "metadata": {},
   "outputs": [],
   "source": [
    "# \n",
    "def get_test_predictions(model, iterator, device):\n",
    "    model.eval()\n",
    "    images = []\n",
    "    labels = []\n",
    "    probs = []\n",
    "    with torch.no_grad():\n",
    "        for x in iterator: #This may not work, I don't know what iterator expects\n",
    "            x = torch.from_numpy(x)\n",
    "            \n",
    "            y_pred, _ = model(x)\n",
    "            y_prob = F.softmax(y_pred, dim=-1)\n",
    "            images.append(x.cpu())\n",
    "            probs.append(y_prob.cpu())\n",
    "    images = torch.cat(images, dim=0)\n",
    "    probs = torch.cat(probs, dim=0)\n",
    "    return images, probs"
   ]
  },
  {
   "cell_type": "code",
   "execution_count": null,
   "id": "67d94a12",
   "metadata": {},
   "outputs": [],
   "source": [
    "plot()"
   ]
  },
  {
   "cell_type": "code",
   "execution_count": 49,
   "id": "d1ec97be",
   "metadata": {},
   "outputs": [],
   "source": [
    "torch.set_default_tensor_type(torch.FloatTensor)"
   ]
  },
  {
   "cell_type": "code",
   "execution_count": 50,
   "id": "3773844a",
   "metadata": {},
   "outputs": [],
   "source": [
    "x2 = torch.from_numpy(new_f)"
   ]
  },
  {
   "cell_type": "code",
   "execution_count": 51,
   "id": "3e03b774",
   "metadata": {},
   "outputs": [],
   "source": [
    "y_pred, _ = model(x2.float())\n",
    "\n"
   ]
  },
  {
   "cell_type": "code",
   "execution_count": 52,
   "id": "1488d079",
   "metadata": {},
   "outputs": [],
   "source": [
    "y_prob = F.softmax(y_pred, dim=-1)"
   ]
  },
  {
   "cell_type": "code",
   "execution_count": 53,
   "id": "eb341a57",
   "metadata": {},
   "outputs": [],
   "source": [
    "y_prob = y_prob.detach().numpy()\n"
   ]
  },
  {
   "cell_type": "code",
   "execution_count": 54,
   "id": "6a6559f7",
   "metadata": {},
   "outputs": [],
   "source": [
    "y_pred = y_pred.detach().numpy()"
   ]
  },
  {
   "cell_type": "code",
   "execution_count": 55,
   "id": "9aa5e26a",
   "metadata": {},
   "outputs": [
    {
     "data": {
      "text/plain": [
       "(array([[0.000e+00, 0.000e+00, 0.000e+00, 0.000e+00, 1.000e+01, 2.450e+02,\n",
       "         3.621e+03, 1.058e+03, 1.200e+01, 0.000e+00],\n",
       "        [4.600e+01, 2.140e+02, 2.473e+03, 1.676e+03, 4.690e+02, 3.500e+01,\n",
       "         2.200e+01, 6.000e+00, 3.000e+00, 2.000e+00]]),\n",
       " array([-7.783407  , -6.3481026 , -4.912798  , -3.477493  , -2.0421882 ,\n",
       "        -0.6068835 ,  0.82842124,  2.263726  ,  3.6990306 ,  5.1343355 ,\n",
       "         6.56964   ], dtype=float32),\n",
       " <a list of 2 BarContainer objects>)"
      ]
     },
     "execution_count": 55,
     "metadata": {},
     "output_type": "execute_result"
    },
    {
     "data": {
      "image/png": "[encoded data removed]",
      "text/plain": [
       "<Figure size 640x480 with 1 Axes>"
      ]
     },
     "metadata": {},
     "output_type": "display_data"
    }
   ],
   "source": [
    "plt.hist(y_pred)"
   ]
  },
  {
   "cell_type": "code",
   "execution_count": 56,
   "id": "a1bb3c9f",
   "metadata": {},
   "outputs": [
    {
     "data": {
      "text/plain": [
       "(array([4.722e+03, 1.290e+02, 3.400e+01, 1.400e+01, 4.000e+00, 5.000e+00,\n",
       "        5.000e+00, 5.000e+00, 8.000e+00, 2.000e+01]),\n",
       " array([6.8690274e-06, 9.9982634e-02, 1.9995840e-01, 2.9993415e-01,\n",
       "        3.9990991e-01, 4.9988568e-01, 5.9986144e-01, 6.9983721e-01,\n",
       "        7.9981297e-01, 8.9978874e-01, 9.9976450e-01], dtype=float32),\n",
       " <BarContainer object of 10 artists>)"
      ]
     },
     "execution_count": 56,
     "metadata": {},
     "output_type": "execute_result"
    },
    {
     "data": {
      "image/png": "[encoded data removed]",
      "text/plain": [
       "<Figure size 640x480 with 1 Axes>"
      ]
     },
     "metadata": {},
     "output_type": "display_data"
    }
   ],
   "source": [
    "plt.hist(y_prob[:,1])"
   ]
  },
  {
   "cell_type": "code",
   "execution_count": 145,
   "id": "696576ee",
   "metadata": {},
   "outputs": [],
   "source": [
    "sees = np.where(y_prob[:,1]>0.4)"
   ]
  },
  {
   "cell_type": "code",
   "execution_count": 83,
   "id": "b4615eb4",
   "metadata": {},
   "outputs": [
    {
     "data": {
      "text/plain": [
       "array([(array(313.09314), array(53.183929), array(0, dtype=int64), array(0, dtype=int64), 0, 0, array(0, dtype=int64)),\n",
       "       -1.0, -1], dtype=object)"
      ]
     },
     "execution_count": 83,
     "metadata": {},
     "output_type": "execute_result"
    },
    {
     "data": {
      "image/png": "[encoded data removed]",
      "text/plain": [
       "<Figure size 640x480 with 1 Axes>"
      ]
     },
     "metadata": {},
     "output_type": "display_data"
    }
   ],
   "source": [
    "plt.plot(test_t[2177],test_f[2177])\n",
    "test_info[2177]"
   ]
  },
  {
   "cell_type": "code",
   "execution_count": 146,
   "id": "1004543f",
   "metadata": {},
   "outputs": [
    {
     "data": {
      "text/plain": [
       "tuple"
      ]
     },
     "execution_count": 146,
     "metadata": {},
     "output_type": "execute_result"
    }
   ],
   "source": [
    "#sees = list(sees) to convert from tuple to list\n",
    "type(sees)"
   ]
  },
  {
   "cell_type": "code",
   "execution_count": 219,
   "id": "7f1babb6",
   "metadata": {},
   "outputs": [],
   "source": [
    "sees = list(sees)"
   ]
  },
  {
   "cell_type": "code",
   "execution_count": 220,
   "id": "668a9755",
   "metadata": {
    "scrolled": true
   },
   "outputs": [
    {
     "name": "stdout",
     "output_type": "stream",
     "text": [
      "[[[(array(311.084412), array(50.870209), array(0, dtype=int64), array(0, dtype=int64), 0, 0, array(0, dtype=int64))]\n",
      "  [(array(347.23822), array(12.048081), array(0, dtype=int64), array(0, dtype=int64), 0, 0, array(0, dtype=int64))]\n",
      "  [(array(347.23822), array(12.048081), array(0, dtype=int64), array(0, dtype=int64), 0, 0, array(0, dtype=int64))]\n",
      "  [(array(347.23822), array(12.048081), array(0, dtype=int64), array(0, dtype=int64), 0, 0, array(0, dtype=int64))]\n",
      "  [(array(347.23822), array(12.048081), array(0, dtype=int64), array(0, dtype=int64), 0, 0, array(0, dtype=int64))]\n",
      "  [(array(323.745605), array(44.145569), array(0, dtype=int64), array(0, dtype=int64), 0, 0, array(0, dtype=int64))]\n",
      "  [(array(323.745605), array(44.145569), array(0, dtype=int64), array(0, dtype=int64), 0, 0, array(0, dtype=int64))]\n",
      "  [(array(323.745605), array(44.145569), array(0, dtype=int64), array(0, dtype=int64), 0, 0, array(0, dtype=int64))]\n",
      "  [(array(323.745605), array(44.145569), array(0, dtype=int64), array(0, dtype=int64), 0, 0, array(0, dtype=int64))]\n",
      "  [(array(323.745605), array(44.145569), array(0, dtype=int64), array(0, dtype=int64), 0, 0, array(0, dtype=int64))]\n",
      "  [(array(323.745605), array(44.145569), array(0, dtype=int64), array(0, dtype=int64), 0, 0, array(0, dtype=int64))]\n",
      "  [(array(313.113098), array(53.562817), array(0, dtype=int64), array(0, dtype=int64), 0, 0, array(0, dtype=int64))]\n",
      "  [(array(313.113098), array(53.562817), array(0, dtype=int64), array(0, dtype=int64), 0, 0, array(0, dtype=int64))]\n",
      "  [(array(313.113098), array(53.562817), array(0, dtype=int64), array(0, dtype=int64), 0, 0, array(0, dtype=int64))]\n",
      "  [(array(313.09314), array(53.183929), array(0, dtype=int64), array(0, dtype=int64), 0, 0, array(0, dtype=int64))]\n",
      "  [(array(313.09314), array(53.183929), array(0, dtype=int64), array(0, dtype=int64), 0, 0, array(0, dtype=int64))]\n",
      "  [(array(313.09314), array(53.183929), array(0, dtype=int64), array(0, dtype=int64), 0, 0, array(0, dtype=int64))]\n",
      "  [(array(313.09314), array(53.183929), array(0, dtype=int64), array(0, dtype=int64), 0, 0, array(0, dtype=int64))]\n",
      "  [(array(313.09314), array(53.183929), array(0, dtype=int64), array(0, dtype=int64), 0, 0, array(0, dtype=int64))]\n",
      "  [(array(313.09314), array(53.183929), array(0, dtype=int64), array(0, dtype=int64), 0, 0, array(0, dtype=int64))]\n",
      "  [(array(323.218353), array(44.207592), array(0, dtype=int64), array(0, dtype=int64), 0, 0, array(0, dtype=int64))]\n",
      "  [(array(323.218353), array(44.207592), array(0, dtype=int64), array(0, dtype=int64), 0, 0, array(0, dtype=int64))]\n",
      "  [(array(335.461761), array(42.951221), array(0, dtype=int64), array(0, dtype=int64), 0, 0, array(0, dtype=int64))]\n",
      "  [(array(335.461761), array(42.951221), array(0, dtype=int64), array(0, dtype=int64), 0, 0, array(0, dtype=int64))]\n",
      "  [(array(335.461761), array(42.951221), array(0, dtype=int64), array(0, dtype=int64), 0, 0, array(0, dtype=int64))]\n",
      "  [(array(335.461761), array(42.951221), array(0, dtype=int64), array(0, dtype=int64), 0, 0, array(0, dtype=int64))]\n",
      "  [(array(250.129501), array(58.091244), array(0, dtype=int64), array(0, dtype=int64), 0, 0, array(0, dtype=int64))]\n",
      "  [(array(250.129501), array(58.091244), array(0, dtype=int64), array(0, dtype=int64), 0, 0, array(0, dtype=int64))]\n",
      "  [(array(250.129501), array(58.091244), array(0, dtype=int64), array(0, dtype=int64), 0, 0, array(0, dtype=int64))]\n",
      "  [(array(250.129501), array(58.091244), array(0, dtype=int64), array(0, dtype=int64), 0, 0, array(0, dtype=int64))]\n",
      "  [(array(250.129501), array(58.091244), array(0, dtype=int64), array(0, dtype=int64), 0, 0, array(0, dtype=int64))]\n",
      "  [(array(250.129501), array(58.091244), array(0, dtype=int64), array(0, dtype=int64), 0, 0, array(0, dtype=int64))]\n",
      "  [(array(250.129501), array(58.091244), array(0, dtype=int64), array(0, dtype=int64), 0, 0, array(0, dtype=int64))]\n",
      "  [(array(250.129501), array(58.091244), array(0, dtype=int64), array(0, dtype=int64), 0, 0, array(0, dtype=int64))]\n",
      "  [(array(250.129501), array(58.091244), array(0, dtype=int64), array(0, dtype=int64), 0, 0, array(0, dtype=int64))]\n",
      "  [(array(348.554718), array(13.426397), array(0, dtype=int64), array(0, dtype=int64), 0, 0, array(0, dtype=int64))]\n",
      "  [(array(348.682739), array(4.533899), array(0, dtype=int64), array(0, dtype=int64), 0, 0, array(0, dtype=int64))]\n",
      "  [(array(351.292572), array(12.305766), array(0, dtype=int64), array(0, dtype=int64), 0, 0, array(0, dtype=int64))]\n",
      "  [(array(351.292572), array(12.305766), array(0, dtype=int64), array(0, dtype=int64), 0, 0, array(0, dtype=int64))]\n",
      "  [(array(327.919647), array(53.448391), array(0, dtype=int64), array(0, dtype=int64), 0, 0, array(0, dtype=int64))]\n",
      "  [(array(327.919647), array(53.448391), array(0, dtype=int64), array(0, dtype=int64), 0, 0, array(0, dtype=int64))]\n",
      "  [(array(338.73877), array(6.306669), array(0, dtype=int64), array(0, dtype=int64), 0, 0, array(0, dtype=int64))]\n",
      "  [(array(303.324707), array(66.290504), array(0, dtype=int64), array(0, dtype=int64), 0, 0, array(0, dtype=int64))]\n",
      "  [(array(354.552277), array(12.221454), array(0, dtype=int64), array(0, dtype=int64), 0, 0, array(0, dtype=int64))]\n",
      "  [(array(331.028), array(35.9381), array(0, dtype=int64), array(0, dtype=int64), 0, 0, array(0, dtype=int64))]\n",
      "  [(array(348.045044), array(3.629794), array(0, dtype=int64), array(0, dtype=int64), 0, 0, array(0, dtype=int64))]\n",
      "  [(array(338.984711), array(20.322258), array(0, dtype=int64), array(0, dtype=int64), 0, 0, array(0, dtype=int64))]]]\n"
     ]
    }
   ],
   "source": [
    "x = test_info[sees,:1]\n",
    "print(x)"
   ]
  },
  {
   "cell_type": "code",
   "execution_count": 221,
   "id": "108e8cfe",
   "metadata": {},
   "outputs": [],
   "source": [
    "s = x[0][:]"
   ]
  },
  {
   "cell_type": "code",
   "execution_count": 223,
   "id": "c27e4868",
   "metadata": {},
   "outputs": [],
   "source": [
    "list1 =s.tolist() "
   ]
  },
  {
   "cell_type": "code",
   "execution_count": 230,
   "id": "e45781d4",
   "metadata": {},
   "outputs": [
    {
     "data": {
      "text/plain": [
       "array([(array(311.084412), array(50.870209), array(0, dtype=int64), array(0, dtype=int64), 0, 0, array(0, dtype=int64)),\n",
       "       (array(347.23822), array(12.048081), array(0, dtype=int64), array(0, dtype=int64), 0, 0, array(0, dtype=int64)),\n",
       "       (array(347.23822), array(12.048081), array(0, dtype=int64), array(0, dtype=int64), 0, 0, array(0, dtype=int64)),\n",
       "       (array(347.23822), array(12.048081), array(0, dtype=int64), array(0, dtype=int64), 0, 0, array(0, dtype=int64)),\n",
       "       (array(347.23822), array(12.048081), array(0, dtype=int64), array(0, dtype=int64), 0, 0, array(0, dtype=int64)),\n",
       "       (array(323.745605), array(44.145569), array(0, dtype=int64), array(0, dtype=int64), 0, 0, array(0, dtype=int64)),\n",
       "       (array(323.745605), array(44.145569), array(0, dtype=int64), array(0, dtype=int64), 0, 0, array(0, dtype=int64)),\n",
       "       (array(323.745605), array(44.145569), array(0, dtype=int64), array(0, dtype=int64), 0, 0, array(0, dtype=int64)),\n",
       "       (array(323.745605), array(44.145569), array(0, dtype=int64), array(0, dtype=int64), 0, 0, array(0, dtype=int64)),\n",
       "       (array(323.745605), array(44.145569), array(0, dtype=int64), array(0, dtype=int64), 0, 0, array(0, dtype=int64)),\n",
       "       (array(323.745605), array(44.145569), array(0, dtype=int64), array(0, dtype=int64), 0, 0, array(0, dtype=int64)),\n",
       "       (array(313.113098), array(53.562817), array(0, dtype=int64), array(0, dtype=int64), 0, 0, array(0, dtype=int64)),\n",
       "       (array(313.113098), array(53.562817), array(0, dtype=int64), array(0, dtype=int64), 0, 0, array(0, dtype=int64)),\n",
       "       (array(313.113098), array(53.562817), array(0, dtype=int64), array(0, dtype=int64), 0, 0, array(0, dtype=int64)),\n",
       "       (array(313.09314), array(53.183929), array(0, dtype=int64), array(0, dtype=int64), 0, 0, array(0, dtype=int64)),\n",
       "       (array(313.09314), array(53.183929), array(0, dtype=int64), array(0, dtype=int64), 0, 0, array(0, dtype=int64)),\n",
       "       (array(313.09314), array(53.183929), array(0, dtype=int64), array(0, dtype=int64), 0, 0, array(0, dtype=int64)),\n",
       "       (array(313.09314), array(53.183929), array(0, dtype=int64), array(0, dtype=int64), 0, 0, array(0, dtype=int64)),\n",
       "       (array(313.09314), array(53.183929), array(0, dtype=int64), array(0, dtype=int64), 0, 0, array(0, dtype=int64)),\n",
       "       (array(313.09314), array(53.183929), array(0, dtype=int64), array(0, dtype=int64), 0, 0, array(0, dtype=int64)),\n",
       "       (array(323.218353), array(44.207592), array(0, dtype=int64), array(0, dtype=int64), 0, 0, array(0, dtype=int64)),\n",
       "       (array(323.218353), array(44.207592), array(0, dtype=int64), array(0, dtype=int64), 0, 0, array(0, dtype=int64)),\n",
       "       (array(335.461761), array(42.951221), array(0, dtype=int64), array(0, dtype=int64), 0, 0, array(0, dtype=int64)),\n",
       "       (array(335.461761), array(42.951221), array(0, dtype=int64), array(0, dtype=int64), 0, 0, array(0, dtype=int64)),\n",
       "       (array(335.461761), array(42.951221), array(0, dtype=int64), array(0, dtype=int64), 0, 0, array(0, dtype=int64)),\n",
       "       (array(335.461761), array(42.951221), array(0, dtype=int64), array(0, dtype=int64), 0, 0, array(0, dtype=int64)),\n",
       "       (array(250.129501), array(58.091244), array(0, dtype=int64), array(0, dtype=int64), 0, 0, array(0, dtype=int64)),\n",
       "       (array(250.129501), array(58.091244), array(0, dtype=int64), array(0, dtype=int64), 0, 0, array(0, dtype=int64)),\n",
       "       (array(250.129501), array(58.091244), array(0, dtype=int64), array(0, dtype=int64), 0, 0, array(0, dtype=int64)),\n",
       "       (array(250.129501), array(58.091244), array(0, dtype=int64), array(0, dtype=int64), 0, 0, array(0, dtype=int64)),\n",
       "       (array(250.129501), array(58.091244), array(0, dtype=int64), array(0, dtype=int64), 0, 0, array(0, dtype=int64)),\n",
       "       (array(250.129501), array(58.091244), array(0, dtype=int64), array(0, dtype=int64), 0, 0, array(0, dtype=int64)),\n",
       "       (array(250.129501), array(58.091244), array(0, dtype=int64), array(0, dtype=int64), 0, 0, array(0, dtype=int64)),\n",
       "       (array(250.129501), array(58.091244), array(0, dtype=int64), array(0, dtype=int64), 0, 0, array(0, dtype=int64)),\n",
       "       (array(250.129501), array(58.091244), array(0, dtype=int64), array(0, dtype=int64), 0, 0, array(0, dtype=int64)),\n",
       "       (array(348.554718), array(13.426397), array(0, dtype=int64), array(0, dtype=int64), 0, 0, array(0, dtype=int64)),\n",
       "       (array(348.682739), array(4.533899), array(0, dtype=int64), array(0, dtype=int64), 0, 0, array(0, dtype=int64)),\n",
       "       (array(351.292572), array(12.305766), array(0, dtype=int64), array(0, dtype=int64), 0, 0, array(0, dtype=int64)),\n",
       "       (array(351.292572), array(12.305766), array(0, dtype=int64), array(0, dtype=int64), 0, 0, array(0, dtype=int64)),\n",
       "       (array(327.919647), array(53.448391), array(0, dtype=int64), array(0, dtype=int64), 0, 0, array(0, dtype=int64)),\n",
       "       (array(327.919647), array(53.448391), array(0, dtype=int64), array(0, dtype=int64), 0, 0, array(0, dtype=int64)),\n",
       "       (array(338.73877), array(6.306669), array(0, dtype=int64), array(0, dtype=int64), 0, 0, array(0, dtype=int64)),\n",
       "       (array(303.324707), array(66.290504), array(0, dtype=int64), array(0, dtype=int64), 0, 0, array(0, dtype=int64)),\n",
       "       (array(354.552277), array(12.221454), array(0, dtype=int64), array(0, dtype=int64), 0, 0, array(0, dtype=int64)),\n",
       "       (array(331.028), array(35.9381), array(0, dtype=int64), array(0, dtype=int64), 0, 0, array(0, dtype=int64)),\n",
       "       (array(348.045044), array(3.629794), array(0, dtype=int64), array(0, dtype=int64), 0, 0, array(0, dtype=int64)),\n",
       "       (array(338.984711), array(20.322258), array(0, dtype=int64), array(0, dtype=int64), 0, 0, array(0, dtype=int64))],\n",
       "      dtype=object)"
      ]
     },
     "execution_count": 230,
     "metadata": {},
     "output_type": "execute_result"
    }
   ],
   "source": []
  }
 ],
 "metadata": {
  "kernelspec": {
   "display_name": "Python 3 (ipykernel)",
   "language": "python",
   "name": "python3"
  },
  "language_info": {
   "codemirror_mode": {
    "name": "ipython",
    "version": 3
   },
   "file_extension": ".py",
   "mimetype": "text/x-python",
   "name": "python",
   "nbconvert_exporter": "python",
   "pygments_lexer": "ipython3",
   "version": "3.9.7"
  }
 },
 "nbformat": 4,
 "nbformat_minor": 5
}
